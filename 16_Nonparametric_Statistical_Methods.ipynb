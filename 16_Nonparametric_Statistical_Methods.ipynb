{
 "cells": [
  {
   "cell_type": "markdown",
   "metadata": {},
   "source": [
    "# 24.08.28 통계 학습 16회차: 비모수 통계 방법(Nonparametric Statistical Methods)"
   ]
  },
  {
   "cell_type": "markdown",
   "metadata": {},
   "source": [
    "### 💡`비모수 통계 방법` 요약\n",
    "\n",
    "1. 데이터의 분포를 가정하지 않고 `순위`나 `순서`에 기반한 분석을 수행하는 방법이다.\n",
    "\n",
    "2. 주로 표본 크기가 작거나 데이터가 정규분포를 따르지 않을 때 사용된다.\n",
    "\n",
    "3. 대표적인 기법으로는 윌콕슨 검정, 크루스칼-월리스 검정, 스피어만 상관분석 등이 있다.\n",
    "\n",
    "4. 위와 같은 방법들은 유연성이 높지만 검정력이 낮을 수 있다."
   ]
  },
  {
   "cell_type": "markdown",
   "metadata": {},
   "source": [
    "### 🔎목차\n",
    "\n",
    "1. 비모수 통계 방법의 개요\n",
    "\n",
    "    - 비모수 통계의 정의\n",
    "    - 비모수 통계와 모수 통계의 비교\n",
    "    - 비모수 통계 방법의 필요성 및 적용 사례\n",
    "\n",
    "2. 비모수 통계 방법의 기본 개념\n",
    "\n",
    "    - 순위와 순위 기반 테스트의 개념\n",
    "    - 대체 가설과 귀무 가설의 정의\n",
    "    - 표본 크기와 검정력의 관계\n",
    "\n",
    "3. 비모수 통계 방법의 주요 기법\n",
    "\n",
    "    1) 중앙값 비교를 위한 기법\n",
    "        - 윌콕슨 순위합 검정 (Wilcoxon Rank-Sum Test)\n",
    "        - 맨-휘트니 U 검정 (Mann-Whitney U Test)\n",
    "    2) 분포 비교를 위한 기법\n",
    "        - 콜모고로프-스미르노프 검정 (Kolmogorov-Smirnov Test)\n",
    "    3) 중앙값 차이를 비교하는 기법\n",
    "        - 윌콕슨 부호순위 검정 (Wilcoxon Signed-Rank Test)\n",
    "    4) 다중 집단 비교를 위한 기법\n",
    "        - 크루스칼-월리스 검정 (Kruskal-Wallis Test)\n",
    "        - 프리드먼 검정 (Friedman Test)\n",
    "\n",
    "4. 비모수 통계에서의 상관분석\n",
    "\n",
    "    - 스피어만 순위 상관계수 (Spearman’s Rank Correlation)\n",
    "    - 켄달의 타우 상관계수 (Kendall’s Tau)\n",
    "\n",
    "5. 비모수 통계에서의 가설 검정\n",
    "\n",
    "    - 부트스트랩 (Bootstrap) 방법\n",
    "    - 퍼뮤테이션 (Permutation) 테스트\n",
    "    - 잭나이프 (Jackknife) 방법\n",
    "\n",
    "6. 비모수 통계 방법의 장단점\n",
    "\n",
    "    - 비모수 통계의 장점 (모델 가정이 불필요, 유연성)\n",
    "    - 비모수 통계의 단점 (검정력, 표본 크기 요구)\n",
    "\n",
    "7. 비모수 통계 방법의 실제 적용 사례\n",
    "\n",
    "    - 실제 데이터 분석에서의 비모수 통계 적용\n",
    "    - 비모수 통계 방법의 결과 해석\n",
    "    - 비모수 통계와 모수 통계의 혼합 사용 사례\n",
    "\n",
    "8. 비모수 통계 방법의 최신 동향\n",
    "\n",
    "    - 고차원 데이터에서의 비모수 방법\n",
    "    - 머신러닝과의 결합\n",
    "    - 빅데이터에서의 비모수 접근법\n",
    "\n",
    "9. 결론 및 실무적 권장 사항\n",
    "\n",
    "    - 비모수 통계 방법 선택 시 고려사항\n",
    "    - 데이터 분석가를 위한 실무 지침"
   ]
  },
  {
   "attachments": {
    "image.png": {
     "image/png": "[encoded data removed]"
    }
   },
   "cell_type": "markdown",
   "metadata": {},
   "source": [
    "### 1. 비모수 통계 방법의 개요\n",
    "\n",
    "1) 비모수 통계의 정의\n",
    "\n",
    "    - 비모수 통계는 데이터의 분포에 대한 특정한 가정을 하지 않는 통계 방법이다.\n",
    "    \n",
    "    - 전통적인 모수 통계는 데이터가 정규 분포를 따르거나 다른 특정 분포를 따른다고 가정하지만, 비모수 통계는 이러한 가정 없이 데이터를 분석한다.\n",
    "\n",
    "2) 비모수 통계와 모수 통계의 비교\n",
    "\n",
    "    - 모수 통계는 데이터의 분포에 대한 특정한 가정을 하고, 이러한 가정에 기반하여 통계적 검정을 수행한다.\n",
    "\n",
    "        - 예를 들어, 정규 분포의 평균과 표준편차를 이용하는 방법이다.\n",
    "\n",
    "    - 반면, 비모수 통계는 이러한 가정 없이 데이터를 분석하므로, 데이터가 정규 분포를 따르지 않거나 표본 크기가 작을 때 유리하다.\n",
    "\n",
    "        - 비모수 통계는 주로 순위나 범주형 데이터를 다룰 때 적합하다.\n",
    "        \n",
    "        - 예를 들어, 중앙값이나 순위를 이용한다.\n",
    "\n",
    "    - 수식적으로 모수 통계는 분포의 `모수를 추정`하는 데 중점을 두는 반면, 비모수 통계는 `순위나 순위 기반 검정`을 사용하여 분석을 수행한다.\n",
    "\n",
    "    ![image.png](attachment:image.png)\n",
    "\n",
    "3) 비모수 통계 방법의 필요성 및 적용 사례\n",
    "\n",
    "    - 필요성: 데이터가 정규 분포를 따르지 않거나, 표본 크기가 너무 작아 모수 통계 방법을 사용할 수 없는 경우 비모수 통계 방법이 유용하다.\n",
    "\n",
    "    - 적용 사례: 비모수 통계는 생명과학, 사회과학, 경제학 등 다양한 분야에서 사용된다.\n",
    "    \n",
    "        - 예를 들어, 소규모 실험 데이터 분석이나 비정규 분포 데이터를 다룰 때 사용된다."
   ]
  },
  {
   "cell_type": "markdown",
   "metadata": {},
   "source": [
    "### 2. 비모수 통계 방법의 기본 개념\n",
    "\n",
    "1) 순위와 순위 기반 테스트의 개념⭐\n",
    "\n",
    "    - 순위는 데이터 값을 작은 순서대로 배열한 후 각 데이터에 부여되는 위치 값이다.\n",
    "    \n",
    "        - 예를 들어, 데이터가 {5, 3, 6, 7, 2}인 경우 순위는 {3, 2, 4, 5, 1}이 된다.\n",
    "\n",
    "    - 순위 기반 테스트는 데이터의 실제 값을 사용하지 않고 순위를 사용하여 통계적 분석을 수행하는 방법이다.\n",
    "    \n",
    "        - 이는 데이터가 정규 분포를 따르지 않을 때 유용하다.\n",
    "\n",
    "2) 대체 가설과 귀무 가설의 정의\n",
    "\n",
    "    - 귀무 가설(H0): 일반적으로 검정에서 입증하고자 하는 내용이 없음을 나타내며, 주로 \"두 그룹 간에 차이가 없다\"는 가정이다.\n",
    "\n",
    "    - 대립 가설(H1): 귀무 가설이 기각될 때 채택되는 가설로, \"두 그룹 간에 차이가 있다\"는 것을 의미한다.\n",
    "\n",
    "3) 표본 크기와 검정력의 관계\n",
    "\n",
    "    - 검정력은 귀무 가설이 거짓일 때 이를 기각할 확률이다.\n",
    "    \n",
    "    - 표본 크기가 크면 검정력이 증가하여 실제 차이를 발견할 가능성이 높아진다.\n",
    "    \n",
    "    - 비모수 통계 방법은 표본 크기가 작아도 적용 가능하나, 검정력이 낮아질 수 있다."
   ]
  },
  {
   "cell_type": "markdown",
   "metadata": {},
   "source": [
    "### ⭐tip.순위와 순위 기반 테스트의 개념\n",
    "\n",
    "- 용어 설명: 순위 기반 테스트는 데이터를 순서대로 나열하고, 그 순서를 숫자로 표현한 뒤 이를 분석하는 방법이다.\n",
    "\n",
    "    - 쉽게 말해, 모든 데이터를 작은 것부터 큰 것까지 차례로 번호를 매긴 후 이 번호를 사용하여 통계 분석을 한다.\n",
    "\n",
    "- 비유: 친구들끼리 달리기 시합을 해서 1등, 2등, 3등을 매기는 것과 비슷하다.\n",
    "\n",
    "    - 순위 기반 테스트에서는 각 데이터가 달리기 시합에서 몇 등 했는지를 기준으로 분석한다.\n",
    "\n",
    "- 예시: Wilcoxon 순위합 검정에서는 각 데이터의 순위를 매기고, 이 순위의 합을 비교한다.\n",
    "\n",
    "    - 아래 코드는 실제로 데이터를 순위로 변환하는 과정이다."
   ]
  },
  {
   "cell_type": "code",
   "execution_count": 37,
   "metadata": {},
   "outputs": [
    {
     "name": "stdout",
     "output_type": "stream",
     "text": [
      "원 데이터: [5, 3, 6, 7, 2]\n",
      "순위: [3. 2. 4. 5. 1.]\n"
     ]
    }
   ],
   "source": [
    "import numpy as np\n",
    "from scipy.stats import rankdata\n",
    "\n",
    "data = [5, 3, 6, 7, 2]  # 2,3,5,6,7\n",
    "ranks = rankdata(data)\n",
    "print(\"원 데이터:\", data)\n",
    "print(\"순위:\", ranks)"
   ]
  },
  {
   "cell_type": "markdown",
   "metadata": {},
   "source": [
    "### ⭐tip.표본 크기와 검정력의 관계\n",
    "\n",
    "- 용어 설명: 검정력은 우리가 잘못된 결정을 하지 않을 확률을 의미하며, 표본 크기는 우리가 실험에 사용하는 데이터의 양을 의미한다.\n",
    "        \n",
    "    - 표본 크기가 클수록, 즉 데이터를 많이 사용할수록, 더 정확한 결정을 할 가능성이 높아진다.\n",
    "\n",
    "- 비유: 친구가 좋아하는 음식을 알아내는 실험을 한다고 생각해 보자.\n",
    "    \n",
    "    - 친구의 몇 가지 식사를 보고 판단하는 것보다는, 친구의 모든 식사를 관찰한 뒤 판단하는 것이 더 정확할 것이다.\n",
    "    \n",
    "    - 이때 사용하는 식사 데이터가 표본이고, 이 데이터를 많이 사용할수록 검정력이 높아진다.\n",
    "\n",
    "- 예시: 검정력은 표본 크기가 클수록 증가하는 경향이 있으며, 이 관계를 python으로 시각화한다."
   ]
  },
  {
   "cell_type": "code",
   "execution_count": 32,
   "metadata": {},
   "outputs": [
    {
     "data": {
      "image/png": "[encoded data removed]",
      "text/plain": [
       "<Figure size 640x480 with 1 Axes>"
      ]
     },
     "metadata": {},
     "output_type": "display_data"
    }
   ],
   "source": [
    "import numpy as np\n",
    "import matplotlib.pyplot as plt\n",
    "import koreanize_matplotlib\n",
    "\n",
    "sample_sizes = np.arange(10, 200, 10)\n",
    "power = 1 - np.exp(-sample_sizes / 30)\n",
    "\n",
    "plt.plot(sample_sizes, power)\n",
    "plt.xlabel('표본 크기')\n",
    "plt.ylabel('검정력')\n",
    "plt.title('표본 크기와 검정력의 관계')\n",
    "plt.show()"
   ]
  },
  {
   "cell_type": "markdown",
   "metadata": {},
   "source": [
    "### 3. 비모수 통계 방법의 주요 기법\n",
    "\n",
    "1) 중앙값 비교를 위한 기법: 독립 집단 간의 차이\n",
    "\n",
    "    - 윌콕슨 순위합 검정 (Wilcoxon Rank-Sum Test)\n",
    "\n",
    "        - 두 독립 집단 간의 차이를 검정한다.\n",
    "\n",
    "        - 주로 두 집단의 중앙값이 차이가 있는지 평가할 때 사용된다.\n",
    "        \n",
    "        - 데이터가 비정규 분포일 때 또는 분포에 대한 가정을 할 수 없을 때 사용한다.\n",
    "\n",
    "        - 맨-휘트니 U 검정과 같은 방법이다.\n",
    "\n",
    "    - 맨-휘트니 U 검정 (Mann-Whitney U Test)\n",
    "\n",
    "        - 두 독립 집단 간의 차이를 검정한다.\n",
    "\n",
    "        - 두 집단의 순위를 비교하여 차이를 검정한다.\n",
    "\n",
    "        - 윌콕슨 순위합 검정과 동일한 검정이며, 같은 결과를 제공한다.\n",
    "\n",
    "        - 두 검정은 본질적으로 동일한 계산 방법을 사용하며, 명칭만 다르다.\n",
    "    \n",
    "    - 두 검정 기법의 비교\n",
    "\n",
    "        - 검정 방법: 두 검정은 동일한 수학적 기초를 공유하며, 결과적으로 동일한 검정이다.\n",
    "    \n",
    "        - 명칭 차이: \"윌콕슨 순위합 검정\"은 순위합에, \"맨-휘트니 U 검정\"은 U 통계량 계산에 중점을 둔 이름이다.\n",
    "    \n",
    "        - 결과 동일: 두 검정은 동일한 결과를 제공하며, 어떤 용어를 사용하든 본질적으로 같은 검정이다."
   ]
  },
  {
   "cell_type": "code",
   "execution_count": 39,
   "metadata": {},
   "outputs": [
    {
     "name": "stdout",
     "output_type": "stream",
     "text": [
      "U 통계량: 8.0\n",
      "p-값: 0.39761475195653073\n"
     ]
    }
   ],
   "source": [
    "import numpy as np\n",
    "from scipy.stats import mannwhitneyu\n",
    "\n",
    "# 두 그룹 데이터\n",
    "group1 = np.array([1, 2, 3, 4, 5])\n",
    "group2 = np.array([2, 3, 4, 5, 6])\n",
    "\n",
    "# 맨-휘트니 U 검정\n",
    "stat, p_value = mannwhitneyu(group1, group2)\n",
    "print('U 통계량:', stat)\n",
    "print('p-값:', p_value)"
   ]
  },
  {
   "cell_type": "markdown",
   "metadata": {},
   "source": [
    "2) 분포 비교를 위한 기법\n",
    "\n",
    "    - 콜모고로프-스미르노프 검정 (Kolmogorov-Smirnov Test)\n",
    "\n",
    "        - 두 집단의 분포가 동일한지 검정한다.\n",
    "        \n",
    "        - 예를 들어, 두 데이터 집합이 동일한 분포를 가지는지 검정할 수 있다.\n",
    "\n",
    "        - 수식적으로, 두 분포 간의 최대 거리(D)를 계산하여 D가 클수록 두 분포가 다르다고 결론짓는다.\n",
    "\n",
    "3) 중앙값 차이를 비교하는 기법\n",
    "\n",
    "    - 윌콕슨 부호순위 검정 (Wilcoxon Signed-Rank Test)\n",
    "\n",
    "        - 짝을 이루는 두 데이터 집합 간의 중앙값 차이를 비교하며, 주로 반복 측정 데이터에 사용된다.\n",
    "        \n",
    "        - 주로 동일 집단의 사전/사후 데이터를 비교할 때 사용된다.\n",
    "\n",
    "        - 예시: 다이어트 프로그램 전후의 체중 변화를 비교하는 경우가 해당된다.\n",
    "\n",
    "4) 다중 집단 비교를 위한 기법\n",
    "\n",
    "    - 크루스칼-월리스 검정 (Kruskal-Wallis Test)\n",
    "\n",
    "        - 세 개 이상의 독립된 집단 간의 중앙값을 비교한다.\n",
    "        \n",
    "        - 이는 ANOVA의 비모수 대안이다.\n",
    "\n",
    "        - 예시: 세 개의 다른 치료 방법이 환자의 회복에 미치는 영향을 비교할 때 사용된다.\n",
    "\n",
    "    - 프리드먼 검정 (Friedman Test)\n",
    "\n",
    "        - 동일한 집단에서 여러 조건을 비교하며, 반복 측정 데이터에 적합하다.\n",
    "        \n",
    "        - 이는 반복 측정 ANOVA의 비모수 대안이다.\n",
    "\n",
    "        - 예시: 여러 시간대에서 동일한 그룹의 성과를 비교하는 경우가 해당된다."
   ]
  },
  {
   "cell_type": "markdown",
   "metadata": {},
   "source": [
    "### 4. 비모수 통계에서의 상관분석\n",
    "\n",
    "1) 스피어만 순위 상관계수 (Spearman’s Rank Correlation)\n",
    "\n",
    "    - 두 변수 간의 비선형 관계를 측정한다.\n",
    "    \n",
    "    - 순위 기반으로 계산된다.\n",
    "    \n",
    "    - 데이터가 정규 분포를 따르지 않을 때 유용하다.\n",
    "\n",
    "2) 켄달의 타우 상관계수 (Kendall’s Tau)\n",
    "\n",
    "    - 두 변수 간의 순위 일치를 측정하며, 스피어만과 유사하지만 계산 방식이 다르다.\n",
    "\n",
    "    - 스피어만 상관계수보다 작은 표본 크기에서도 효과적이다."
   ]
  },
  {
   "cell_type": "markdown",
   "metadata": {},
   "source": [
    "### 5. 비모수 통계에서의 가설 검정\n",
    "\n",
    "1) 부트스트랩 (Bootstrap) 방법\n",
    "\n",
    "    - 원본 데이터를 반복적으로 재샘플링(복원추출, 중복허용)하여 여러 샘플을 생성하고, 그 샘플들로부터 통계적 추정치를 얻는 방법이다.\n",
    "    \n",
    "    - 이 방법은 표본 분포를 가정하지 않으므로 비모수 통계에 적합하다.\n",
    "\n",
    "    - 아래 코드는 샘플들로부터 평균을 계산하여 신뢰구간을 추정하는 강력한 비모수 방법을 실행한다."
   ]
  },
  {
   "cell_type": "code",
   "execution_count": 11,
   "metadata": {},
   "outputs": [
    {
     "name": "stdout",
     "output_type": "stream",
     "text": [
      "[ 1.76405235  0.40015721  0.97873798  2.2408932   1.86755799 -0.97727788\n",
      "  0.95008842 -0.15135721 -0.10321885  0.4105985   0.14404357  1.45427351\n",
      "  0.76103773  0.12167502  0.44386323  0.33367433  1.49407907 -0.20515826\n",
      "  0.3130677  -0.85409574 -2.55298982  0.6536186   0.8644362  -0.74216502\n",
      "  2.26975462 -1.45436567  0.04575852 -0.18718385  1.53277921  1.46935877\n",
      "  0.15494743  0.37816252 -0.88778575 -1.98079647 -0.34791215  0.15634897\n",
      "  1.23029068  1.20237985 -0.38732682 -0.30230275 -1.04855297 -1.42001794\n",
      " -1.70627019  1.9507754  -0.50965218 -0.4380743  -1.25279536  0.77749036\n",
      " -1.61389785 -0.21274028 -0.89546656  0.3869025  -0.51080514 -1.18063218\n",
      " -0.02818223  0.42833187  0.06651722  0.3024719  -0.63432209 -0.36274117\n",
      " -0.67246045 -0.35955316 -0.81314628 -1.7262826   0.17742614 -0.40178094\n",
      " -1.63019835  0.46278226 -0.90729836  0.0519454   0.72909056  0.12898291\n",
      "  1.13940068 -1.23482582  0.40234164 -0.68481009 -0.87079715 -0.57884966\n",
      " -0.31155253  0.05616534 -1.16514984  0.90082649  0.46566244 -1.53624369\n",
      "  1.48825219  1.89588918  1.17877957 -0.17992484 -1.07075262  1.05445173\n",
      " -0.40317695  1.22244507  0.20827498  0.97663904  0.3563664   0.70657317\n",
      "  0.01050002  1.78587049  0.12691209  0.40198936]\n"
     ]
    }
   ],
   "source": [
    "# 부트스트랩 방법을 통해 원본 데이터(data)의 평균에 대한 95% 신뢰구간을 추정한다.\n",
    "import numpy as np\n",
    "# 난수 생성의 초기값을 0으로 고정한다.\n",
    "np.random.seed(0)\n",
    "# 평균이 0이고 표준편차가 1인 정규분포에서 100개의 난수를 생성하여 data에 저장한다.\n",
    "# 즉, 이 데이터가 부트스트랩을 적용할 원본 데이터이다.\n",
    "data = np.random.randn(100)\n",
    "\n",
    "print(data)"
   ]
  },
  {
   "cell_type": "code",
   "execution_count": 27,
   "metadata": {},
   "outputs": [
    {
     "name": "stdout",
     "output_type": "stream",
     "text": [
      "[[-1.23482582 -1.04855297  1.22244507  0.44386323 -0.17992484  0.72909056\n",
      "   1.76405235  1.46935877 -0.40317695 -0.68481009  1.89588918  0.14404357\n",
      "   1.78587049  0.70657317  1.05445173 -0.88778575  1.89588918  1.20237985\n",
      "   0.12898291  0.14404357  0.42833187  0.90082649  1.23029068 -0.74216502\n",
      "   1.48825219 -0.68481009  0.40015721  0.12167502 -0.40178094 -1.7262826\n",
      "  -0.4380743  -0.51080514  2.2408932   1.78587049  0.0519454   1.23029068\n",
      "   1.78587049 -0.87079715  0.3130677   0.40234164  0.3869025   0.17742614\n",
      "   0.20827498 -0.35955316 -0.68481009  0.0519454   0.40198936  1.49407907\n",
      "  -0.02818223 -1.63019835  1.17877957  0.90082649  1.53277921 -1.98079647\n",
      "  -2.55298982 -0.68481009 -0.15135721 -0.10321885  0.44386323 -0.17992484\n",
      "   0.4105985  -0.31155253 -0.34791215  0.97873798 -0.63432209  1.45427351\n",
      "   1.23029068  0.46566244  1.48825219  0.46278226 -0.90729836  1.46935877\n",
      "  -0.40178094 -0.87079715  0.01050002 -0.87079715  0.95008842  0.15494743\n",
      "   0.14404357 -1.7262826  -1.63019835  1.13940068 -0.85409574 -2.55298982\n",
      "   1.46935877 -0.68481009 -0.36274117 -0.74216502 -0.89546656  0.0519454\n",
      "   1.89588918  2.26975462  1.13940068  0.97663904  1.49407907 -1.04855297\n",
      "  -0.67246045  1.23029068 -0.97727788  0.97873798]]\n"
     ]
    }
   ],
   "source": [
    "# 원본 데이터(data)에서 크기가 100인 샘플을 1000번 무작위로 복원 추출(replace=True)하여 bootstrap_samples에 저장한다.\n",
    "# 즉, 이 과정을 통해 data와 같은 크기(100)의 샘플 1000개가 생성된다.\n",
    "bootstrap_samples = np.random.choice(data, size=(1000, len(data)), replace=True)\n",
    "\n",
    "print(bootstrap_samples[:1])"
   ]
  },
  {
   "cell_type": "code",
   "execution_count": 22,
   "metadata": {},
   "outputs": [
    {
     "name": "stdout",
     "output_type": "stream",
     "text": [
      "[-0.08794116  0.02727019  0.02063761 -0.05372554  0.13257264 -0.0535446\n",
      "  0.16026523  0.03873311  0.41995346  0.08235906]\n"
     ]
    }
   ],
   "source": [
    "# 각 부트스트랩 샘플(1000개의 샘플)에서 평균을 계산하여 bootstrap_means에 저장한다.\n",
    "# 즉, bootstrap_means는 1000개의 평균값들을 담고 있다.\n",
    "bootstrap_means = np.mean(bootstrap_samples, axis=1)\n",
    "\n",
    "print(bootstrap_means[:10])"
   ]
  },
  {
   "cell_type": "code",
   "execution_count": 23,
   "metadata": {},
   "outputs": [],
   "source": [
    "# 부트스트랩 평균값들의 2.5번째 백분위수와 97.5번째 백분위수를 계산하여 95% 신뢰구간(confidence interval)을 구한다.\n",
    "# 즉, confidence_interval에는 부트스트랩 평균의 하한(2.5%)과 상한(97.5%)이 저장된다.\n",
    "confidence_interval = np.percentile(bootstrap_means, [2.5, 97.5])"
   ]
  },
  {
   "cell_type": "code",
   "execution_count": 24,
   "metadata": {},
   "outputs": [
    {
     "name": "stdout",
     "output_type": "stream",
     "text": [
      "95% 신뢰구간: [-0.13532414  0.24739467]\n"
     ]
    }
   ],
   "source": [
    "# 95% 신뢰구간을 출력한다. 이 구간은 원본 데이터의 평균이 이 범위 안에 있을 확률이 95%라는 의미이다.\n",
    "print(\"95% 신뢰구간:\", confidence_interval)"
   ]
  },
  {
   "cell_type": "markdown",
   "metadata": {},
   "source": [
    "2) 퍼뮤테이션 (Permutation) 테스트\n",
    "\n",
    "    - 데이터를 무작위로 섞어 통계량의 분포를 비교한다.\n",
    "    \n",
    "    - 이는 귀무 가설의 유효성을 평가하는 데 사용된다.\n",
    "\n",
    "3) 잭나이프 (Jackknife) 방법\n",
    "\n",
    "    - 각 데이터 포인트를 한 번씩 제외하고 통계량을 계산하여 분산을 추정한다.\n",
    "    \n",
    "    - 이는 부트스트랩과 유사하지만, 표본 크기가 작을 때 사용된다."
   ]
  },
  {
   "cell_type": "markdown",
   "metadata": {},
   "source": [
    "### 6. 비모수 통계 방법의 장단점\n",
    "\n",
    "1) 비모수 통계의 장점\n",
    "\n",
    "    - 모델 가정이 불필요: 데이터가 특정 분포를 따른다는 가정이 없으므로, 보다 다양한 데이터에 적용 가능하다.\n",
    "\n",
    "    - 유연성이 크다: 데이터의 분포에 민감하지 않아 여러 상황에서 유용하다.\n",
    "\n",
    "2) 비모수 통계의 단점\n",
    "\n",
    "    - 낮은 검정력: 표본 크기가 작거나 분포의 모양을 고려하지 않기 때문에, 모수 통계 방법보다 검정력이 낮을 수 있다.\n",
    "\n",
    "    - 표본 크기 요구: 표본 크기가 작을 경우, 정확한 결과를 얻기 어려울 수 있다."
   ]
  },
  {
   "cell_type": "markdown",
   "metadata": {},
   "source": [
    "### 7. 비모수 통계 방법의 실제 적용 사례\n",
    "\n",
    "1) 실제 데이터 분석에서의 비모수 통계 적용\n",
    "\n",
    "    - 비정규 분포 데이터를 분석할 때 Wilcoxon 검정이나 Mann-Whitney U 검정을 사용하여 그룹 간 차이를 평가할 수 있다.\n",
    "\n",
    "2) 비모수 통계 방법의 결과 해석\n",
    "\n",
    "    - 비모수 통계 방법을 사용한 결과는 보수적일 수 있으며, 데이터의 특성을 고려하여 해석해야 한다.\n",
    "\n",
    "3) 비모수 통계와 모수 통계의 혼합 사용 사례\n",
    "\n",
    "    - 데이터의 일부는 모수 통계 방법으로 분석하고, 다른 부분은 비모수 방법으로 분석하여 종합적인 결론을 도출할 수 있다."
   ]
  },
  {
   "cell_type": "markdown",
   "metadata": {},
   "source": [
    "### ⭐tip.비모수 통계 방법의 실제 적용 사례"
   ]
  },
  {
   "cell_type": "code",
   "execution_count": 33,
   "metadata": {},
   "outputs": [
    {
     "name": "stdout",
     "output_type": "stream",
     "text": [
      "Wilcoxon 순위합 검정 결과: 통계량=-2.6111648393354674, p-값=0.009023438818080326\n"
     ]
    }
   ],
   "source": [
    "# 예시: Wilcoxon 순위합 검정을 사용한 두 그룹 간 중앙값 비교\n",
    "from scipy.stats import ranksums\n",
    "\n",
    "group1 = [20, 22, 21, 19, 23]\n",
    "group2 = [30, 32, 29, 31, 28]\n",
    "\n",
    "stat, p_value = ranksums(group1, group2)\n",
    "print(f\"Wilcoxon 순위합 검정 결과: 통계량={stat}, p-값={p_value}\")"
   ]
  },
  {
   "cell_type": "markdown",
   "metadata": {},
   "source": [
    "### 8. 비모수 통계 방법의 최신 동향\n",
    "\n",
    "1) 고차원 데이터에서의 비모수 방법\n",
    "\n",
    "    - 고차원 데이터 분석에서는 비모수 방법의 활용이 증가하고 있으며, 이를 통해 데이터의 구조를 보다 유연하게 파악할 수 있다.\n",
    "\n",
    "2) 머신러닝과의 결합\n",
    "\n",
    "    - 비모수 통계 방법은 머신러닝 알고리즘과 결합되어 더욱 효과적으로 데이터의 패턴을 분석하고 예측 모델을 개선하는 데 사용된다.\n",
    "\n",
    "    - 예를 들어, 랜덤 포레스트에서 변수 중요도를 평가할 때 비모수 방법이 어떻게 사용되는지 설명할 수 있다.\n",
    "\n",
    "3) 빅데이터에서의 비모수 접근법\n",
    "\n",
    "    - 빅데이터 환경에서는 비모수 방법이 데이터의 다양한 분포를 처리하는 데 유리하며, 대규모 데이터셋을 분석할 때도 효과적이다."
   ]
  },
  {
   "cell_type": "markdown",
   "metadata": {},
   "source": [
    "### 9. 결론 및 실무적 권장 사항\n",
    "\n",
    "1) 비모수 통계 방법 선택 시 고려사항\n",
    "\n",
    "    - 데이터의 분포, 표본 크기, 연구 목적 등을 고려하여 비모수 통계 방법을 선택해야 한다.\n",
    "\n",
    "    - 비모수 방법의 한계를 극복하기 위한 전략을 함께 제시하면 좋다.\n",
    "\n",
    "2) 데이터 분석가를 위한 실무 지침\n",
    "\n",
    "    - 비모수 통계 방법을 적용할 때 데이터의 특성과 분석 목적을 명확히 파악하고, 적절한 방법을 선택하는 것이 중요하다."
   ]
  }
 ],
 "metadata": {
  "kernelspec": {
   "display_name": "Python 3",
   "language": "python",
   "name": "python3"
  },
  "language_info": {
   "codemirror_mode": {
    "name": "ipython",
    "version": 3
   },
   "file_extension": ".py",
   "mimetype": "text/x-python",
   "name": "python",
   "nbconvert_exporter": "python",
   "pygments_lexer": "ipython3",
   "version": "3.11.2"
  }
 },
 "nbformat": 4,
 "nbformat_minor": 2
}
