{
 "cells": [
  {
   "cell_type": "markdown",
   "metadata": {},
   "source": [
    "# 24.08.15 통계 학습 7회차: 상관 분석(Correlation Analysis)"
   ]
  },
  {
   "cell_type": "markdown",
   "metadata": {},
   "source": [
    "### 💡상관 분석이란?\n",
    "\n",
    "두 변수 간의 관계를 이해하고, 이 관계가 얼마나 강한지, 그리고 어떤 방향으로 이루어지는지 파악하기 위한 기법이다."
   ]
  },
  {
   "cell_type": "markdown",
   "metadata": {},
   "source": [
    "### 🔎목차\n",
    "\n",
    "1. 상관 분석의 개요\n",
    "\n",
    "    - 상관 분석이란 무엇인가?\n",
    "    - 상관 분석의 목적과 중요성\n",
    "    - 상관 분석이 사용되는 주요 사례\n",
    "\n",
    "2. 상관 계수의 개념과 종류\n",
    "\n",
    "    - 피어슨 상관 계수 (Pearson Correlation Coefficient)\n",
    "    - 스피어만 상관 계수 (Spearman’s Rank Correlation)\n",
    "    - 켄달의 타우 상관 계수 (Kendall’s Tau)\n",
    "    - 상관 계수의 해석 (음의 상관, 양의 상관, 무상관)\n",
    "\n",
    "3. 상관 계수의 수학적 정의와 계산 방법\n",
    "\n",
    "    - 피어슨 상관 계수의 수식과 계산 과정\n",
    "    - 스피어만 상관 계수의 수식과 계산 과정\n",
    "    - 켄달의 타우 상관 계수의 수식과 계산 과정\n",
    "    - 상관 계수의 통계적 유의성 검정\n",
    "\n",
    "4. 상관 분석의 가정과 조건\n",
    "\n",
    "    - 선형성 가정\n",
    "    - 정상성 가정\n",
    "    - 이상치와 변동성의 영향\n",
    "    - 변수의 척도(연속형, 순위형)\n",
    "\n",
    "5. 상관 분석의 실제 적용\n",
    "\n",
    "    - 상관 분석을 위한 데이터 준비\n",
    "    - Python을 활용한 상관 분석 (numpy, pandas, scipy 활용)\n",
    "    - 상관 계수 행렬 (Correlation Matrix)의 생성과 해석\n",
    "    - 상관 계수의 시각화 (Heatmap, Scatter plot)\n",
    "\n",
    "6. 상관 분석의 한계와 주의사항\n",
    "\n",
    "    - 상관과 인과의 차이점\n",
    "    - 다중 공선성 문제와 상관 분석\n",
    "    - 상관 계수 왜곡을 피하기 위한 방법 (로버스트 상관 계수 등)\n",
    "\n",
    "7. 상관 분석의 확장 기법\n",
    "\n",
    "    - 부분 상관 분석 (Partial Correlation)\n",
    "    - 다변량 상관 분석 (Multivariate Correlation)\n",
    "    - 상관 계수의 비교와 차이 분석\n",
    "\n",
    "8. 상관 분석 결과의 해석 및 보고\n",
    "\n",
    "    - 상관 계수의 의미와 해석\n",
    "    - 통계적 유의성 및 실질적 유의성\n",
    "    - 상관 분석 결과의 시각적 표현과 보고서 작성"
   ]
  },
  {
   "cell_type": "markdown",
   "metadata": {},
   "source": [
    "### 1. 상관 분석의 개요\n",
    "\n",
    "1) 상관 분석이란 무엇인가?\n",
    "\n",
    "    - 상관 분석은 두 변수 간의 관계를 분석하는 통계적 방법이다.\n",
    "    \n",
    "    - 이를 통해 한 변수가 다른 변수에 대해 어떻게 변화하는지를 이해할 수 있다.\n",
    "    \n",
    "    - 상관 분석은 주로 두 변수 간의 선형 관계를 평가하는 데 사용되며, 이 관계의 강도와 방향을 측정한다.\n",
    "    \n",
    "    - 상관 분석으로 두 변수 간의 관계가 다음과 같은지 평가한다.\n",
    "    \n",
    "        a. 양의 상관: 한 변수가 증가할 때 다른 변수도 증가.\n",
    "        \n",
    "        b. 음의 상관: 한 변수가 증가할 때 다른 변수는 감소.\n",
    "        \n",
    "        c. 무상관: 관계 없음.\n",
    "\n",
    "2) 상관 분석의 목적과 중요성\n",
    "\n",
    "    - 관계 파악: 두 변수 간의 관계를 파악하여, 어떤 변수의 변화가 다른 변수에 영향을 미치는지를 이해한다.\n",
    "\n",
    "    - 예측 모델링: 상관 관계를 기반으로 예측 모델을 구축하여 미래의 데이터를 예측하는 데 활용할 수 있다.\n",
    "\n",
    "    - 데이터 탐색: 데이터 분석 초기 단계에서 변수 간의 관계를 탐색하여, 데이터의 구조와 패턴을 이해하는 데 도움을 준다.\n",
    "\n",
    "3) 상관 분석이 사용되는 주요 사례\n",
    "\n",
    "    - 마케팅: 상관 분석을 통해 매출과 광고비의 관계를 이해하고, 효과적인 마케팅 전략을 세울 수 있다.\n",
    "\n",
    "    - 교육: 공부 시간과 시험 성적 간의 관계 분석\n",
    "    \n",
    "    - 건강: 운동량과 체중 간의 관계 분석\n",
    "\n",
    "    - 의학 연구: 특정 치료법과 환자의 회복 속도 간의 관계를 분석\n",
    "\n",
    "    - 주식 시장: 두 주식 간의 가격 변화 관계를 분석하여 투자 전략 수립"
   ]
  },
  {
   "cell_type": "markdown",
   "metadata": {},
   "source": [
    "### 2. 상관 계수의 개념과 종류\n",
    "\n",
    "1) 피어슨 상관 계수 (Pearson Correlation Coefficient)\n",
    "\n",
    "    - 두 연속형 변수 간의 선형 관계를 측정한다.\n",
    "    \n",
    "    - 피어슨 상관 계수는 -1과 1 사이의 값을 가지며, 다음과 같이 해석된다.\n",
    "\n",
    "        - 1: 완벽한 양의 상관 (두 변수는 동일한 비율로 증가)\n",
    "        \n",
    "        - 0: 상관 없음 (두 변수 간에 관계가 없음)\n",
    "\n",
    "        - -1: 완벽한 음의 상관 (한 변수가 증가할 때 다른 변수는 동일한 비율로 감소)\n",
    "\n",
    "2) 스피어만 상관 계수 (Spearman’s Rank Correlation)\n",
    "    \n",
    "    - 순위형 데이터나 비선형 관계가 있을 때 사용하는 비모수적 방법이다.\n",
    "    \n",
    "    - 두 변수의 순위를 기반으로 상관성(관계)를 평가한다.\n",
    "    \n",
    "    - 피어슨 상관 계수와 마찬가지로 -1에서 1 사이의 값을 가진다.\n",
    "    \n",
    "    - 스피어만 상관 계수는 순위를 바탕으로 하기 때문에 이상치에 민감하지 않다.\n",
    "\n",
    "3) 켄달의 타우 상관 계수 (Kendall’s Tau)\n",
    "\n",
    "    - 순위형 데이터에서 두 변수 간의 일관된 순서를 평가한다.\n",
    "    \n",
    "    - 두 변수 간의 쌍들이 일치하는지, 불일치하는지를 분석하여 상관성을 측정한다.\n",
    "    \n",
    "    - 해당 방법도 비모수적이므로 이상치에 덜 민감하다.\n",
    "\n",
    "4) 상관 계수의 해석\n",
    "\n",
    "    - 상관 계수의 크기와 방향을 이해하는 것이 중요하다.\n",
    "\n",
    "        - 양의 상관(0 < r ≤ 1): 한 변수가 증가할 때 다른 변수도 증가한다. (예: 0.8)\n",
    "\n",
    "        - 음의 상관(-1 ≤ r < 0): 한 변수가 증가할 때 다른 변수는 감소한다. (예: -0.7)\n",
    "\n",
    "        - 무상관(r ≈ 0): 두 변수 간에 선형 관계가 없다."
   ]
  },
  {
   "attachments": {
    "image.png": {
     "image/png": "[encoded data removed]"
    }
   },
   "cell_type": "markdown",
   "metadata": {},
   "source": [
    "### 3. 상관 계수의 수학적 정의와 계산 방법\n",
    "\n",
    "1)  피어슨 상관 계수의 수식과 계산 과정\n",
    "\n",
    "    - 피어슨 상관 계수 𝑟는 두 변수의 공분산을 각각의 표준편차의 곱으로 나누어 계산한다.\n",
    "\n",
    "    - $r = \\frac{n(\\sum xy) - (\\sum x)(\\sum y)}{\\sqrt{[n\\sum x^2 - (\\sum x)^2][n\\sum y^2 - (\\sum y)^2]}}$\n",
    "\n",
    "        -  n : 데이터의 개수\n",
    "\n",
    "        -  x : 첫 번째 변수\n",
    "\n",
    "        -  y : 두 번째 변수\n",
    "\n",
    "    - 아래와 같이도 표현할 수있다.\n",
    "\n",
    "    - ![image.png](attachment:image.png)\n",
    "\n",
    "        - $Xi, Yi$ : 각각의 데이터 포인트\n",
    "\n",
    "        - $Xˉ, Yˉ$ : 각각의 변수의 평균"
   ]
  },
  {
   "cell_type": "code",
   "execution_count": 2,
   "metadata": {},
   "outputs": [
    {
     "name": "stdout",
     "output_type": "stream",
     "text": [
      "피어슨 상관 계수: 1.0\n"
     ]
    }
   ],
   "source": [
    "# 두 변수 X와 Y 간의 피어슨 상관 계수를 계산한다.\n",
    "import numpy as np\n",
    "\n",
    "# 예제 데이터\n",
    "X = np.array([10, 20, 30, 40, 50])\n",
    "Y = np.array([15, 25, 35, 45, 55])\n",
    "\n",
    "# 피어슨 상관 계수 계산\n",
    "r = np.corrcoef(X, Y)[0, 1]\n",
    "\n",
    "print(f\"피어슨 상관 계수: {r}\")"
   ]
  },
  {
   "cell_type": "markdown",
   "metadata": {},
   "source": [
    "2) 스피어만 상관 계수의 수식과 계산 과정\n",
    "\n",
    "    - 스피어만 상관 계수는 데이터의 순위를 사용하여 계산되며, 순위의 차이를 이용한 수식은 다음과 같다.\n",
    "\n",
    "    - $\\rho = 1 - \\frac{6\\sum d_i^2}{n(n^2 - 1)}$\n",
    "\n",
    "        - $𝑑𝑖$ : 각 데이터 쌍의 순위 차이\n",
    "        \n",
    "        - $𝑛$ : 데이터의 개수"
   ]
  },
  {
   "cell_type": "code",
   "execution_count": 3,
   "metadata": {},
   "outputs": [
    {
     "name": "stdout",
     "output_type": "stream",
     "text": [
      "스피어만 상관 계수: 1.00\n"
     ]
    }
   ],
   "source": [
    "from scipy.stats import spearmanr\n",
    "\n",
    "# 데이터 생성\n",
    "x = np.array([1, 2, 3, 4, 5])\n",
    "y = np.array([2, 3, 5, 7, 11])\n",
    "\n",
    "# 스피어만 상관 계수 계산\n",
    "spearman_corr, _ = spearmanr(x, y)\n",
    "print(f\"스피어만 상관 계수: {spearman_corr:.2f}\")"
   ]
  },
  {
   "cell_type": "markdown",
   "metadata": {},
   "source": [
    "3) 켄달의 타우 상관 계수의 수식과 계산 과정\n",
    "\n",
    "    - 켄달의 타우는 다음과 같이 계산된다.\n",
    "\n",
    "    - $\\tau = \\frac{(P - Q)}{\\frac{1}{2} n(n-1)}$\n",
    "\n",
    "        - $P$ : 순위가 같은 쌍의 수\n",
    "        \n",
    "        - $Q$ : 순위가 다른 쌍의 수"
   ]
  },
  {
   "cell_type": "code",
   "execution_count": 4,
   "metadata": {},
   "outputs": [
    {
     "name": "stdout",
     "output_type": "stream",
     "text": [
      "켄달의 타우 상관 계수: 1.00\n"
     ]
    }
   ],
   "source": [
    "from scipy.stats import kendalltau\n",
    "\n",
    "# 데이터 생성\n",
    "x = np.array([1, 2, 3, 4, 5])\n",
    "y = np.array([2, 3, 5, 7, 11])\n",
    "\n",
    "# 켄달의 타우 상관 계수 계산\n",
    "kendall_corr, _ = kendalltau(x, y)\n",
    "print(f\"켄달의 타우 상관 계수: {kendall_corr:.2f}\")"
   ]
  },
  {
   "cell_type": "markdown",
   "metadata": {},
   "source": [
    "4) 상관 계수의 통계적 유의성 검정\n",
    "\n",
    "    - 상관 계수의 유의성을 검정하기 위해 p-값을 사용할 수 있다.\n",
    "    \n",
    "    - p-값이 일반적으로 0.05보다 작으면, 상관 관계가 통계적으로 유의하다고 판단한다."
   ]
  },
  {
   "cell_type": "markdown",
   "metadata": {},
   "source": [
    "### 4. 상관 분석의 가정과 조건\n",
    "\n",
    "1) 선형성 가정\n",
    "\n",
    "    - 피어슨 상관 계수는 두 변수 간의 선형 관계를 전제로 한다.\n",
    "    \n",
    "    - 두 변수 간에 선형적이지 않은 관계가 있을 경우, 피어슨 상관 계수는 적합하지 않을 수 있다.\n",
    "\n",
    "    - 선형성을 확인하기 위해 산점도(scatter plot)를 그려보는 것이 좋다.\n",
    "\n",
    "2) 정상성 가정\n",
    "\n",
    "    - 데이터가 정규 분포를 따를 때, 피어슨 상관 계수가 잘 작동한다.\n",
    "\n",
    "    - 정규성을 확인하기 위해 Q-Q 플롯(Quantile-Quantile Plot)이나 샤피로-윌크 검정(Shapiro-Wilk Test) 등을 사용할 수 있다. \n",
    "    \n",
    "    - 비정규 분포일 경우, 스피어만 상관 계수 같은 비모수적 방법을 사용하는 것이 좋다.\n",
    "\n",
    "3) 이상치와 변동성의 영향\n",
    "\n",
    "    - 이상치는 상관 계수에 큰 영향을 미칠 수 있다.\n",
    "\n",
    "    - 상관 분석을 수행하기 전에 데이터의 분포를 살펴보고, 이상치를 제거하거나 변환하는 방법을 고려해야 한다.\n",
    "    \n",
    "    - 피어슨 상관 계수는 특히 이상치에 민감하므로, 분석 전에 데이터 클리닝이 필요하다.\n",
    "\n",
    "4) 변수의 척도(연속형, 순위형)\n",
    "\n",
    "    - 상관 분석을 수행할 때 변수의 척도에 주의해야 한다. 즉, 데이터의 특성에 맞는 상관 계수를 선택하는 것이 중요하다.\n",
    "\n",
    "    - 피어슨 상관 계수는 연속형 데이터에 적합하고, 스피어만과 켄달의 타우는 순위형 데이터에 적합하다."
   ]
  },
  {
   "cell_type": "markdown",
   "metadata": {},
   "source": [
    "### 5. 상관 분석의 실제 적용\n",
    "\n",
    "1) 상관 분석을 위한 데이터 준비\n",
    "\n",
    "    - 상관 분석을 수행하기 위해서는 먼저 데이터를 수집하고 정제해야 한다.\n",
    "    \n",
    "    - 결측치 처리, 이상치 탐지 및 제거, 데이터 형식 변환(정규화, 척도 변환) 등의 작업이 필요하다.\n",
    "\n",
    "2) Python을 활용한 상관 분석 (numpy, pandas, scipy 활용)\n",
    "\n",
    "    - Python의 다양한 라이브러리를 활용하여 상관 분석을 수행할 수 있다.\n",
    "    \n",
    "    - 예를 들어, pandas와 numpy를 사용하여 데이터프레임의 상관 계수를 계산할 수 있다."
   ]
  },
  {
   "cell_type": "code",
   "execution_count": 6,
   "metadata": {},
   "outputs": [
    {
     "name": "stdout",
     "output_type": "stream",
     "text": [
      "     X    Y\n",
      "X  1.0  1.0\n",
      "Y  1.0  1.0\n"
     ]
    }
   ],
   "source": [
    "# 라이브러리 불러오기\n",
    "import pandas as pd\n",
    "\n",
    "# 가상의 데이터 생성하기 \n",
    "data = {'X': [10, 20, 30, 40, 50], 'Y': [15, 25, 35, 45, 55]}\n",
    "df = pd.DataFrame(data)\n",
    "\n",
    "# 상관 계수 행렬 생성하기\n",
    "correlation_matrix = df.corr()\n",
    "\n",
    "print(correlation_matrix)"
   ]
  },
  {
   "cell_type": "markdown",
   "metadata": {},
   "source": [
    "3) 상관 계수 행렬의 생성과 해석\n",
    "\n",
    "    - 상관 계수 행렬은 여러 변수 간의 상관 관계를 한눈에 보여주는 도구이다.\n",
    "    \n",
    "    - 각 행과 열은 변수 간의 상관 계수를 나타내며, 이를 통해 변수 간의 관계를 파악할 수 있다.\n",
    "\n",
    "4) 상관 계수의 시각화 (Heatmap, Scatter plot)\n",
    "\n",
    "    - 상관 계수를 시각화하면 데이터의 관계를 보다 직관적으로 이해할 수 있다.\n",
    "    \n",
    "    - seaborn으로 상관 계수 행렬을 히트맵으로 시각화하여 변수 간의 관계를 쉽게 파악할 수 있다."
   ]
  },
  {
   "cell_type": "code",
   "execution_count": 15,
   "metadata": {},
   "outputs": [
    {
     "name": "stdout",
     "output_type": "stream",
     "text": [
      "피어슨 상관 계수 행렬:\n",
      "           A         B         C\n",
      "A  1.000000  0.972272 -1.000000\n",
      "B  0.972272  1.000000 -0.972272\n",
      "C -1.000000 -0.972272  1.000000\n"
     ]
    }
   ],
   "source": [
    "# 라이브러리 불러오기\n",
    "import pandas as pd\n",
    "import numpy as np\n",
    "\n",
    "# 데이터프레임 생성\n",
    "data = {\n",
    "    'A': [1, 2, 3, 4, 5],\n",
    "    'B': [2, 3, 5, 7, 11],\n",
    "    'C': [5, 4, 3, 2, 1]\n",
    "}\n",
    "df = pd.DataFrame(data)\n",
    "\n",
    "# 피어슨 상관 계수 계산\n",
    "pearson_corr = df.corr(method='pearson')\n",
    "print(\"피어슨 상관 계수 행렬:\\n\", pearson_corr)"
   ]
  },
  {
   "cell_type": "code",
   "execution_count": 16,
   "metadata": {},
   "outputs": [
    {
     "data": {
      "image/png": "[encoded data removed]",
      "text/plain": [
       "<Figure size 800x600 with 2 Axes>"
      ]
     },
     "metadata": {},
     "output_type": "display_data"
    }
   ],
   "source": [
    "# 라이브러리 불러오기\n",
    "import seaborn as sns\n",
    "import matplotlib.pyplot as plt\n",
    "import matplotlib\n",
    "\n",
    "# 한글 폰트 설정\n",
    "plt.rc('font', family='Malgun Gothic')\n",
    "\n",
    "# 마이너스 기호 지원 추가\n",
    "matplotlib.rcParams['axes.unicode_minus'] = False\n",
    "\n",
    "# 상관 계수 행렬 시각화\n",
    "plt.figure(figsize=(8, 6))\n",
    "sns.heatmap(pearson_corr, annot=True, cmap='coolwarm', fmt='.2f')\n",
    "plt.title('상관 계수 히트맵')\n",
    "plt.show()"
   ]
  },
  {
   "cell_type": "markdown",
   "metadata": {},
   "source": [
    "### 6. 상관 분석의 한계와 주의사항\n",
    "\n",
    "1) 상관과 인과의 차이점\n",
    "\n",
    "    - 상관 관계가 존재한다고 해서 반드시 인과 관계가 존재하는 것은 아니다.\n",
    "    \n",
    "    - 즉, 두 변수 간에 상관 관계가 있다고 해서 한 변수가 다른 변수의 원인이라고 결론지을 수 없다.\n",
    "\n",
    "    - 항상 추가적인 분석이 필요하다.\n",
    "\n",
    "2) 다중 공선성(multicollinearity) 문제와 상관 분석\n",
    "\n",
    "    - 다중 공선성은 독립 변수들 간의 높은 상관 관계로 인해 `회귀 분석` 결과의 `신뢰성`이 떨어지는 문제를 의미한다.\n",
    "    \n",
    "    - 모델의 해석을 어렵게 할 수 있으며, 상관 분석에서도 주의해야 할 요소이다.\n",
    "\n",
    "3) 상관 계수 왜곡을 피하기 위한 방법\n",
    "\n",
    "    - 비정상적인 데이터나 이상치로 인해 상관 계수가 왜곡될 수 있다.\n",
    "    \n",
    "    - 왜곡을 방지하기 위해 로버스트 상관 계수를 사용할 수 있으며, 이는 이상치에 덜 민감하게 반응한다.\n",
    "\n",
    "### 7. 상관 분석의 확장 기법\n",
    "\n",
    "1) 부분 상관 분석 (Partial Correlation)\n",
    "\n",
    "    - 세 개 이상의 변수 간의 관계를 분석할 때 특정 변수를 통제하고 두 변수 간의 상관 관계를 평가한다.\n",
    "    \n",
    "    - 이를 통해 두 변수 간의 직접적인 관계를 파악할 수 있습니다.\n",
    "    \n",
    "    - 예를 들어, 연령을 통제한 상태에서 소득과 건강 간의 관계를 분석할 수 있다.\n",
    "\n",
    "2) 다변량 상관 분석 (Multivariate Correlation)\n",
    "\n",
    "    - 여러 변수를 동시에 고려하여 상관 관계를 분석하는 방법이다.\n",
    "    \n",
    "    - 주성분 분석(PCA)이나 다변량 회귀 분석 등의 방법을 활용할 수 있다.\n",
    "\n",
    "3) 상관 계수의 비교와 차이 분석\n",
    "\n",
    "    - 상관 계수를 비교하여 변수 간의 관계가 일정하게 유지되는지를 분석할 수 있다.\n",
    "    \n",
    "    - 이를 통해 변수 간의 관계가 변화하는 패턴을 발견할 수 있다.\n",
    "    \n",
    "    - 이때, Fisher 변환을 사용하여 상관 계수의 차이를 테스트할 수 있다.\n",
    "\n",
    "### 8. 상관 분석 결과의 해석 및 보고\n",
    "\n",
    "1) 상관 계수의 의미와 해석\n",
    "\n",
    "    - 상관 계수의 크기(강도)와 방향을 바탕으로 결과를 해석한다.\n",
    "\n",
    "    - 이를 해석할 때는 상관 계수의 절대값을 기준으로 관계의 강도를 판단한다.\n",
    "    \n",
    "    - 상관 계수가 크고 양수라면 강한 양의 관계가 있음을, 음수라면 강한 음의 관계가 있음을 의미한다.\n",
    "\n",
    "    - 예: 0.1: 약한 상관, 0.3: 중간 상관, 0.5 이상: 강한 상관 관계.\n",
    "\n",
    "2) 통계적 유의성 및 실질적 유의성\n",
    "\n",
    "    - 상관 분석 결과의 통계적 유의성을 판단하기 위해 p-값을 확인한다. p-값이 0.05보다 작으면 유의하다고 판단할 수 있다.\n",
    "\n",
    "    - 그러나 상관 계수가 유의미하더라도, 그 크기가 작다면 실질적인 의미는 없을 수 있다.\n",
    "    \n",
    "    - 따라서 통계적 유의성과 함께 실질적 유의성도 고려해야 한다.\n",
    "\n",
    "3) 상관 분석 결과의 시각적 표현과 보고서 작성\n",
    "\n",
    "    - 상관 분석 결과를 보고할 때는 상관 계수, p-값, 시각화된 그래프를 포함하여 명확히 전달하는 것이 중요하다.\n",
    "    \n",
    "    - 보고서는 독자가 결과를 쉽게 이해할 수 있도록 구성해야 하며, 다음과 같은 요소를 포함하는 것이 좋다.\n",
    "\n",
    "        - 서론: 연구의 배경, 목적 및 중요성을 설명한다.\n",
    "        \n",
    "        - 방법론: 데이터 수집 방법, 분석 기법 및 사용한 도구를 설명한다.\n",
    "\n",
    "        - 결과: 상관 계수, p-값 및 시각화된 결과(예: 히트맵, 산점도 등)를 포함하여 분석 결과를 제시한다.\n",
    "\n",
    "        - 논의: 결과의 해석, 통계적 유의성, 실질적 유의성에 대해 논의하고, 결과의 의미를 설명한다.\n",
    "        \n",
    "            - 또한, 상관 관계가 인과 관계를 의미하지 않음을 강조한다.\n",
    "\n",
    "        - 결론: 연구의 주요 발견과 향후 연구 방향을 제시한다."
   ]
  }
 ],
 "metadata": {
  "kernelspec": {
   "display_name": "Python 3",
   "language": "python",
   "name": "python3"
  },
  "language_info": {
   "codemirror_mode": {
    "name": "ipython",
    "version": 3
   },
   "file_extension": ".py",
   "mimetype": "text/x-python",
   "name": "python",
   "nbconvert_exporter": "python",
   "pygments_lexer": "ipython3",
   "version": "3.11.2"
  }
 },
 "nbformat": 4,
 "nbformat_minor": 2
}
