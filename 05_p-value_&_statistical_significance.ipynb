{
 "cells": [
  {
   "cell_type": "markdown",
   "metadata": {},
   "source": [
    "# 24.08.13 통계 학습 5회차: p-값과 통계적 유의성"
   ]
  },
  {
   "cell_type": "markdown",
   "metadata": {},
   "source": [
    "### 🔎목차\n",
    "\n",
    "#### 1. p-값의 정의\n",
    "\n",
    "- p-값의 기본 개념\n",
    "\n",
    "- 가설 검정에서의 역할\n",
    "\n",
    "- p-값의 역사적 배경과 의미\n",
    "\n",
    "#### 2. 통계적 유의성의 정의\n",
    "\n",
    "- 통계적 유의성의 의미\n",
    "\n",
    "- 유의 수준(alpha)의 설정\n",
    "\n",
    "- p-값과 유의성의 관계\n",
    "#### 3. p-값의 계산 방법\n",
    "\n",
    "- 이론적 접근: 수식과 방법론\n",
    "\n",
    "- p-값 계산의 예제(예: t-검정)\n",
    "\n",
    "- 다양한 검정에서의 p-값 계산 (t-검정, z-검정 등)\n",
    "\n",
    "#### 4. p-값 해석 방법\n",
    "\n",
    "- p-값 해석의 기본 원칙\n",
    "\n",
    "- p-값의 오해와 한계\n",
    "\n",
    "- p-값 해석에서 유의해야 할 점\n",
    "\n",
    "#### 5. p-값과 통계적 유의성의 실전 적용\n",
    "\n",
    "- 실제 데이터에서 p-값 계산 및 해석\n",
    "\n",
    "- p-값이 작은 경우와 큰 경우의 해석 차이\n",
    "\n",
    "- p-값 이외의 대안적 방법 (예: 신뢰 구간)\n",
    "\n",
    "#### 6.통계적 유의성과 데이터 분석\n",
    "\n",
    "- p-값의 유의성과 데이터 과학에서의 중요성\n",
    "\n",
    "- 데이터 분석에서의 통계적 유의성 적용 사례\n",
    "\n",
    "- p-값과 비즈니스 의사결정의 관계\n",
    "\n",
    "#### 7. 코드 실습\n",
    "\n",
    "- p-값 계산 및 해석 문제\n",
    "\n",
    "- 통계적 유의성 분석 실습"
   ]
  },
  {
   "cell_type": "markdown",
   "metadata": {},
   "source": [
    "### 🔎학습 내용"
   ]
  },
  {
   "cell_type": "markdown",
   "metadata": {},
   "source": [
    "### 1. p-값의 정의(1)\n",
    "\n",
    "1) p-값의 기본 개념\n",
    "\n",
    "    - 가설 검정에서 귀무가설이 참일 때, 표본에서 관측된 결과나 그보다 극단적인 결과가 나올 확률을 나타낸다.\n",
    "    \n",
    "    - p-값이 작을수록 관측된 데이터가 귀무가설과 잘 맞지 않다는 것을 의미하며,\n",
    "    \n",
    "    - 이는 연구자가 설정한 유의 수준(alpha)과 비교하여 통계적으로 유의미한지를 판단하는 데 사용된다.\n",
    "\n",
    "2) 수식\n",
    "\n",
    "    - p-값은 특정 통계량을 기준으로 누적분포함수(CDF)를 통해 계산되며, 통계량이 T일 때 p-값은 다음과 같이 정의된다.\n",
    "\n",
    "    - $𝑝-value=𝑃(𝑇≥𝑡)$\n",
    "\n",
    "3) numpy 예제 코드\n",
    "\n",
    "    - 평균이 0인 정규분포에서 100개의 데이터를 생성하고, 해당 데이터가 평균 0과 유의미하게 다른지를 t-검정으로 검정한다."
   ]
  },
  {
   "cell_type": "code",
   "execution_count": 5,
   "metadata": {},
   "outputs": [
    {
     "name": "stdout",
     "output_type": "stream",
     "text": [
      "T-Statistic: 0.09524297935879786, P-Value: 0.9243143503515604\n"
     ]
    }
   ],
   "source": [
    "# 라이브러리 불러오기\n",
    "import numpy as np\n",
    "from scipy import stats\n",
    "\n",
    "# 평균 0, 표준편차 1의 정규분포의 예제 데이터 생성하기\n",
    "data = np.random.normal(0, 1, 100)\n",
    "\n",
    "# 단일 표본 t-검정 수행\n",
    "t_stat, p_val = stats.ttest_1samp(data, 0)\n",
    "\n",
    "# 해당 데이터가 평균 0과 유의미하게 다른지를 t-검정으로 검정한 결과\n",
    "print(f\"T-Statistic: {t_stat}, P-Value: {p_val}\")"
   ]
  },
  {
   "cell_type": "markdown",
   "metadata": {},
   "source": [
    "4) 결과 해석\n",
    "\n",
    "    1. T-Statistic: 0.095\n",
    "\n",
    "        - 이 값이 0에 가까운 것은 데이터의 평균이 0과 비슷하다는 것을 나타낸다.\n",
    "\n",
    "    2. P-Value: 0.924\n",
    "\n",
    "        - p-값이 0.924로 매우 크므로, 귀무 가설(데이터의 평균이 0이다)을 기각할 수 없다.\n",
    "        \n",
    "        - 즉, 데이터의 평균이 0과 통계적으로 유의미하게 다르지 않다고 결론 내릴 수 있다."
   ]
  },
  {
   "cell_type": "markdown",
   "metadata": {},
   "source": [
    "### 1. p-값의 정의(2)\n",
    "\n",
    "1) 가설 검정에서의 역할\n",
    "\n",
    "    - 가설 검정의 목표는 두 개의 가설, 즉 귀무 가설(H0)과 대립 가설(H1)을 비교하는 것이다.\n",
    "    \n",
    "    - p-값은 이 과정에서 중요한 역할을 하며, 일반적으로 설정된 유의 수준(α)과 비교하여 귀무 가설을 기각할지 여부를 결정한다.\n",
    "    \n",
    "    - 예를 들어, 유의 수준이 0.05로 설정된 경우, p-값이 0.03이라면 귀무 가설을 기각하게 된다.\n",
    "\n",
    "2) p-값의 역사적 배경과 의미\n",
    "\n",
    "    - p-값의 개념은 20세기 초 통계학자 피어슨과 니먼에 의해 발전되었다.\n",
    "    \n",
    "    - p-값은 통계적 유의성을 평가하는 데 널리 사용되며, 연구 결과의 신뢰성을 판단하는 중요한 도구로 자리잡았다.\n",
    "    \n",
    "    - 그러나 p-값은 오해를 불러일으킬 수 있으며, 단순히 p-값이 낮다고 해서 연구 결과가 반드시 중요한 것은 아니다."
   ]
  },
  {
   "cell_type": "code",
   "execution_count": 29,
   "metadata": {},
   "outputs": [
    {
     "name": "stdout",
     "output_type": "stream",
     "text": [
      "t-통계량: -1.946, p-값: 0.056\n"
     ]
    }
   ],
   "source": [
    "# 라이브러리 불러오기\n",
    "import numpy as np\n",
    "from scipy import stats\n",
    "\n",
    "# 예제: t-검정을 통한 p-값 계산\n",
    "data1 = np.random.normal(loc=5, scale=1, size=30)  # 그룹 1\n",
    "data2 = np.random.normal(loc=6, scale=1, size=30)  # 그룹 2\n",
    "\n",
    "t_statistic, p_value = stats.ttest_ind(data1, data2)\n",
    "\n",
    "print(f\"t-통계량: {t_statistic:.3f}, p-값: {p_value:.3f}\")"
   ]
  },
  {
   "cell_type": "markdown",
   "metadata": {},
   "source": [
    "### 2. 통계적 유의성의 정의\n",
    "\n",
    "1) 통계적 유의성의 의미\n",
    "\n",
    "    - 통계적 유의성은 실험 결과가 `우연`에 의해 `발생`할 가능성이 `낮다`는 것을 의미한다.\n",
    "    \n",
    "    - 일반적으로 설정된 유의 수준(alpha)보다 p-값이 작으면 결과는 통계적으로 유의하다고 판단된다.\n",
    "\n",
    "2) 유의 수준(alpha)의 설정\n",
    "\n",
    "    - 유의 수준(α)은 연구자가 사전에 설정하는 기준으로, 귀무 가설을 기각할 때 허용 가능한 오류의 확률을 나타낸다.\n",
    "    \n",
    "    - 예를 들어, α = 0.05로 설정하면, 5%의 확률로 귀무 가설이 참일 때 이를 기각하는 경우가 발생할 수 있다.\n",
    "\n",
    "3) p-값과 유의성의 관계\n",
    "\n",
    "    - p-값과 유의성의 관계는 p-값이 유의 수준과 비교하여 결정된다.\n",
    "    \n",
    "    - p-값이 유의 수준보다 작으면 귀무 가설을 기각하고, 그렇지 않으면 귀무 가설을 유지한다.\n",
    "    \n",
    "    - 이는 연구 결과의 신뢰성을 판단하는 데 중요하다.\n",
    "\n",
    "4) 수식\n",
    "\n",
    "    - 통계적 유의성은 다음과 같이 표현된다.\n",
    "\n",
    "    - $𝑝-value<𝛼$\n",
    "\n",
    "5) numpy 예제 코드\n",
    "\n",
    "    - p-값이 0.05보다 작을 경우 귀무가설을 기각하고, 그 결과를 통계적으로 유의하다고 판단한다.\n",
    "\n",
    "    - 위의 코드는 p-값이 0.05보다 훨씬 커서 우연으로 발생할 확률이 높다고 판단된 경우이다."
   ]
  },
  {
   "cell_type": "code",
   "execution_count": 6,
   "metadata": {},
   "outputs": [
    {
     "name": "stdout",
     "output_type": "stream",
     "text": [
      "귀무가설을 기각할 수 없습니다. 통계적으로 유의하지 않습니다.\n"
     ]
    }
   ],
   "source": [
    "alpha = 0.05\n",
    "if p_val < alpha:\n",
    "    print(\"귀무가설을 기각합니다. 통계적으로 유의미합니다.\")\n",
    "else:  # 0.92 > alpha(0.05)\n",
    "    print(\"귀무가설을 기각할 수 없습니다. 통계적으로 유의하지 않습니다.\")"
   ]
  },
  {
   "cell_type": "markdown",
   "metadata": {},
   "source": [
    "### 3. p-값의 계산 방법\n",
    "\n",
    "1) 이론적 접근\n",
    "\n",
    "    - p-값은 검정통계량을 이용해 계산된다.\n",
    "    \n",
    "    - 검정통계량은 표본 데이터로부터 계산된 값이며, 이를 기준으로 귀무가설 하에서 기대되는 분포에서 관측된 값의 위치를 파악헌다.\n",
    "\n",
    "2) p-값 계산의 예제 (예: t-검정)\n",
    "\n",
    "    - t-검정에서의 p-값은 t분포를 사용해 계산된다.\n",
    "\n",
    "    - t-검정을 통해 두 그룹의 평균 차이를 비교할 수 있다."
   ]
  },
  {
   "cell_type": "code",
   "execution_count": 30,
   "metadata": {},
   "outputs": [
    {
     "name": "stdout",
     "output_type": "stream",
     "text": [
      "t-통계량: -2.875, p-값: 0.006\n"
     ]
    }
   ],
   "source": [
    "# p-값 계산 예제\n",
    "import numpy as np\n",
    "from scipy import stats\n",
    "\n",
    "# 데이터 생성\n",
    "group1 = np.random.normal(loc=5, scale=1, size=30)\n",
    "group2 = np.random.normal(loc=6, scale=1, size=30)\n",
    "\n",
    "# t-검정 수행\n",
    "t_stat, p_value = stats.ttest_ind(group1, group2)\n",
    "print(f\"t-통계량: {t_stat:.3f}, p-값: {p_value:.3f}\")"
   ]
  },
  {
   "cell_type": "markdown",
   "metadata": {},
   "source": [
    "3) 다양한 검정에서의 p-값 계산 (t-검정, z-검정 등)\n",
    "\n",
    "    - t-검정: 두 개의 독립적인 집단 간 평균 차이를 비교할 때 사용한다.\n",
    "\n",
    "    - z-검정: 모집단의 분산이 알려져 있을 때 사용하며, 표본 평균이 모집단 평균과 얼마나 차이가 나는지를 평가한다."
   ]
  },
  {
   "cell_type": "code",
   "execution_count": 31,
   "metadata": {},
   "outputs": [
    {
     "name": "stdout",
     "output_type": "stream",
     "text": [
      "Z-통계량: -0.839, p-값: 0.401\n"
     ]
    }
   ],
   "source": [
    "# Z-검정 예제\n",
    "import statsmodels.api as sm\n",
    "\n",
    "# 데이터 생성\n",
    "data = np.random.normal(loc=5, scale=1, size=30)\n",
    "\n",
    "# Z-검정 수행\n",
    "z_stat, p_value_z = sm.stats.ztest(data, value=5)\n",
    "print(f\"Z-통계량: {z_stat:.3f}, p-값: {p_value_z:.3f}\")"
   ]
  },
  {
   "cell_type": "markdown",
   "metadata": {},
   "source": [
    "4) 기타 numpy 예제 코드\n",
    "\n",
    "    - 예를 들어, 단일 표본 t-검정에서는 다음과 같이 p-값을 계산한다.\n",
    "\n",
    "    - 해당 코드는 t-검정에서의 t-값과 자유도를 기반으로 p-값을 계산하는 예제이다."
   ]
  },
  {
   "cell_type": "code",
   "execution_count": 8,
   "metadata": {},
   "outputs": [
    {
     "name": "stdout",
     "output_type": "stream",
     "text": [
      "P-Value: 0.024119846686316504\n"
     ]
    }
   ],
   "source": [
    "from scipy.stats import t\n",
    "\n",
    "# t 분포에서 p-value 계산\n",
    "t_stat = 2.0\n",
    "# 자유도\n",
    "df = 99\n",
    "# p-value\n",
    "p_val = 1 - t.cdf(t_stat, df)\n",
    "\n",
    "print(f\"P-Value: {p_val}\")"
   ]
  },
  {
   "cell_type": "markdown",
   "metadata": {},
   "source": [
    "### 4. p-값 해석 방법\n",
    "\n",
    "1) 기본 원칙\n",
    "\n",
    "    - p-값이 작을수록 귀무가설이 참일 확률이 낮다는 것을 의미한다.\n",
    "    \n",
    "    - 그러나 p-값이 작다고 해서 무조건 연구가 유의미하다고 결론 내릴 수는 없다.\n",
    "    \n",
    "    - p-값은 데이터의 크기와 품질, 그리고 연구 디자인에 따라 다르게 해석될 수 있다.\n",
    "\n",
    "2) p-값의 한계\n",
    "\n",
    "    - p-값은 통계적 유의성을 판단하는 중요한 지표이지만, 결과의 크기(effect size)나 실제 의미를 반영하지 않는다.\n",
    "    \n",
    "    - 따라서 p-값만으로 연구 결과를 해석하는 것은 부적절할 수 있음을 인지한다.\n",
    "\n",
    "3) numpy 예제 코드\n",
    "\n",
    "    - 해당 코드는 효과 크기(effect size)를 계산하여 p-값과 함께 해석하는 예제이다.\n",
    "\n",
    "    - 결과 해석: 효과 크기 0.0095는 매우 작은 값이다.\n",
    "    \n",
    "        - 이는 데이터의 평균이 표준편차에 비해 거의 차이가 없음을 나타낸다.\n",
    "        \n",
    "        - 즉, 데이터의 평균은 0에 매우 가까우며, 변동성이 크지 않다는 것을 의미한다.\n",
    "\n",
    "    - 코드 분석\n",
    "\n",
    "        - np.mean(data): 데이터의 평균을 계산한다.\n",
    "\n",
    "        - np.std(data, ddof=1): 데이터의 표준편차를 계산한다. 여기서 ddof=1은 샘플 표준편차를 계산하기 위한 설정이다.\n",
    "\n",
    "        - effect_size: 평균을 표준편차로 나눈 값으로, 효과 크기를 나타낸다."
   ]
  },
  {
   "cell_type": "code",
   "execution_count": 9,
   "metadata": {},
   "outputs": [
    {
     "name": "stdout",
     "output_type": "stream",
     "text": [
      "Effect Size: 0.009524297935879786\n"
     ]
    }
   ],
   "source": [
    "# 평균 0, 표준편차 1의 정규분포의 예제 데이터 생성하기\n",
    "data = np.random.normal(0, 1, 100)\n",
    "\n",
    "# 효과 크기 계산하기\n",
    "effect_size = np.mean(data) / np.std(data, ddof=1)\n",
    "print(f\"Effect Size: {effect_size}\")"
   ]
  },
  {
   "cell_type": "markdown",
   "metadata": {},
   "source": [
    "### 5. p-값과 통계적 유의성의 실전 적용\n",
    "\n",
    "1) 실제 데이터에서 p-값 계산 및 해석\n",
    "\n",
    "    - 데이터 분석에서 p-값과 통계적 유의성은 다양한 결정의 근거가 된다.\n",
    "    \n",
    "    -  예를 들어, 임상 시험에서 신약의 효과를 평가할 때 p-값을 계산하여 신약이 기존 치료법보다 효과적인지를 판단한다.\n",
    "\n",
    "    - numpy 예제 코드\n",
    "\n",
    "        1) A/B 테스트를 통한 p-값 계산: 그룹 A와 그룹 B의 클릭률 비교하는 예제\n",
    "\n",
    "        2) 두 그룹 간의 평균 차이가 유의한지를 검정하는 예제"
   ]
  },
  {
   "cell_type": "code",
   "execution_count": 24,
   "metadata": {},
   "outputs": [
    {
     "name": "stdout",
     "output_type": "stream",
     "text": [
      "A/B 테스트 Z-통계량: -1.034, p-값: 0.301\n"
     ]
    }
   ],
   "source": [
    "group_a = np.random.binomial(1, 0.1, size=1000)  # 그룹 A의 클릭률 10%\n",
    "group_b = np.random.binomial(1, 0.12, size=1000) # 그룹 B의 클릭률 12%\n",
    "\n",
    "from statsmodels.stats.proportion import proportions_ztest\n",
    "\n",
    "count = np.array([group_a.sum(), group_b.sum()])\n",
    "nobs = np.array([len(group_a), len(group_b)])\n",
    "z_stat, p_value_ab = proportions_ztest(count, nobs)\n",
    "print(f\"A/B 테스트 Z-통계량: {z_stat:.3f}, p-값: {p_value_ab:.3f}\")"
   ]
  },
  {
   "cell_type": "code",
   "execution_count": 10,
   "metadata": {},
   "outputs": [
    {
     "name": "stdout",
     "output_type": "stream",
     "text": [
      "T-Statistic: -2.96813954992317, P-Value: 0.0033656467850722294\n"
     ]
    }
   ],
   "source": [
    "group1 = np.random.normal(5, 1, 100)\n",
    "group2 = np.random.normal(5.5, 1, 100)\n",
    "\n",
    "# 두 그룹 간의 독립 표본 t-검정\n",
    "t_stat, p_val = stats.ttest_ind(group1, group2)\n",
    "print(f\"T-Statistic: {t_stat}, P-Value: {p_val}\")"
   ]
  },
  {
   "cell_type": "markdown",
   "metadata": {},
   "source": [
    "2) p-값이 작은 경우와 큰 경우의 해석 차이\n",
    "\n",
    "    - p-값이 작은 경우(예: p < 0.05)는 귀무 가설을 기각할 수 있는 근거가 있으며,이로 인해 대립 가설을 지지하는 결과로 해석된다.\n",
    "    \n",
    "    - 반면, p-값이 큰 경우(예: p > 0.05)는 귀무 가설을 기각할 수 없으며, 이는 대립 가설에 대한 충분한 증거가 없음을 의미한다.\n",
    "    \n",
    "    - 그러나 p-값이 크다고 해서 대립 가설이 참이라는 것을 의미하지는 않는다."
   ]
  },
  {
   "cell_type": "code",
   "execution_count": 25,
   "metadata": {},
   "outputs": [
    {
     "name": "stdout",
     "output_type": "stream",
     "text": [
      "그룹 A와 그룹 B 간의 클릭률 차이가 통계적으로 유의하지 않습니다.\n"
     ]
    }
   ],
   "source": [
    "# p-값 해석 예시\n",
    "if p_value_ab < 0.05:\n",
    "    print(\"그룹 A와 그룹 B 간의 클릭률 차이가 통계적으로 유의합니다.\")\n",
    "else:\n",
    "    print(\"그룹 A와 그룹 B 간의 클릭률 차이가 통계적으로 유의하지 않습니다.\")"
   ]
  },
  {
   "cell_type": "markdown",
   "metadata": {},
   "source": [
    "3) p-값 이외의 대안적 방법 (예: 신뢰 구간)\n",
    "\n",
    "    - p-값 외에도 신뢰 구간(confidence interval)은 효과의 크기와 불확실성을 나타내는 데 유용한 도구이다.\n",
    "    \n",
    "    - 신뢰 구간은 특정 신뢰 수준(예: 95%)에서 모수가 포함될 가능성이 있는 범위를 제공한다.\n",
    "    \n",
    "    - 이는 p-값과 함께 사용하여 연구 결과의 해석을 보완할 수 있다."
   ]
  },
  {
   "cell_type": "code",
   "execution_count": 26,
   "metadata": {},
   "outputs": [
    {
     "name": "stdout",
     "output_type": "stream",
     "text": [
      "95% 신뢰 구간: (-0.18787060838072925, 0.20681566187531583)\n"
     ]
    }
   ],
   "source": [
    "# 신뢰 구간 계산 예제\n",
    "import statsmodels.api as sm\n",
    "\n",
    "# 평균과 표준 오차 계산\n",
    "mean = np.mean(data)\n",
    "std_err = stats.sem(data)\n",
    "\n",
    "# 95% 신뢰 구간\n",
    "conf_int = sm.stats.DescrStatsW(data).tconfint_mean(alpha=0.05)\n",
    "print(f\"95% 신뢰 구간: {conf_int}\")"
   ]
  },
  {
   "cell_type": "markdown",
   "metadata": {},
   "source": [
    "### 6. 통계적 유의성과 데이터 분석\n",
    "\n",
    "1) p-값의 유의성과 데이터 분석에서의 중요성\n",
    "\n",
    "    - p-값은 데이터 과학에서 통계적 유의성을 평가하는 중요한 도구이다.\n",
    "    \n",
    "    - 데이터 분석가는 p-값을 사용하여 데이터에서 발견된 패턴이 우연에 의한 것이 아님을 입증하고, 이를 통해 데이터 기반 의사결정을 지원한다.\n",
    "\n",
    "2) 데이터 분석에서의 통계적 유의성 적용 사례\n",
    "\n",
    "    - 예를 들어, 마케팅 캠페인의 효과를 평가하거나 신약의 효과를 테스트하는 등 다양한 분야에서 통계적 유의성을 활용하여 데이터 분석 결과에 대한 신뢰성을 높일 수 있다.\n",
    "    \n",
    "    - 데이터 분석가들은 p-값을 기반으로 의사결정을 내리고, 결과를 해석하여 비즈니스 전략을 수립한다."
   ]
  },
  {
   "cell_type": "code",
   "execution_count": 19,
   "metadata": {},
   "outputs": [
    {
     "name": "stdout",
     "output_type": "stream",
     "text": [
      "캠페인 A/B 테스트 Z-통계량: -3.809, p-값: 0.000\n",
      "캠페인 A와 캠페인 B 간의 클릭률 차이가 통계적으로 유의합니다.\n"
     ]
    }
   ],
   "source": [
    "# 라이브러리 불러오기\n",
    "from statsmodels.stats.proportion import proportions_ztest\n",
    "\n",
    "# 데이터 분석에서의 p-값 사용 예시: 마케팅 캠페인 결과 분석\n",
    "campaign_a = np.random.binomial(1, 0.2, size=500)  # 캠페인 A 클릭률\n",
    "campaign_b = np.random.binomial(1, 0.25, size=500) # 캠페인 B 클릭률\n",
    "\n",
    "count_campaign = np.array([campaign_a.sum(), campaign_b.sum()])\n",
    "nobs_campaign = np.array([len(campaign_a), len(campaign_b)])\n",
    "z_stat_campaign, p_value_campaign = proportions_ztest(count_campaign, nobs_campaign)\n",
    "\n",
    "# 캠페인 A/B 테스트 Z-통계량 및 p-값 출력\n",
    "print(f\"캠페인 A/B 테스트 Z-통계량: {z_stat_campaign:.3f}, p-값: {p_value_campaign:.3f}\")\n",
    "\n",
    "if p_value_campaign < 0.05:\n",
    "    print(\"캠페인 A와 캠페인 B 간의 클릭률 차이가 통계적으로 유의합니다.\")\n",
    "else:\n",
    "    print(\"캠페인 A와 캠페인 B 간의 클릭률 차이가 통계적으로 유의하지 않습니다.\")"
   ]
  },
  {
   "cell_type": "markdown",
   "metadata": {},
   "source": [
    "3) p-값과 비즈니스 의사결정의 관계\n",
    "\n",
    "    - p-값은 비즈니스 의사결정에서 중요한 역할을 한다.\n",
    "    \n",
    "    - 예를 들어, 신제품 출시 여부, 마케팅 전략의 효과성 평가, 혹은 고객 행동 분석 등에서 p-값을 통해 데이터 기반의 결정을 내릴 수 있다.\n",
    "    \n",
    "    - p-값이 통계적으로 유의한 경우, 기업은 그 결과를 바탕으로 전략을 수정하거나 실행할 수 있다."
   ]
  },
  {
   "cell_type": "code",
   "execution_count": 20,
   "metadata": {},
   "outputs": [
    {
     "name": "stdout",
     "output_type": "stream",
     "text": [
      "추가 마케팅 예산을 할당하여 캠페인 B를 확대합니다.\n"
     ]
    }
   ],
   "source": [
    "# 비즈니스 의사결정 예시\n",
    "# 만약 p-값이 유의하다면, 추가 마케팅 예산을 할당할 수 있음\n",
    "if p_value_campaign < 0.05:\n",
    "    print(\"추가 마케팅 예산을 할당하여 캠페인 B를 확대합니다.\")\n",
    "else:\n",
    "    print(\"현재 캠페인을 유지하고 추가 분석을 진행합니다.\")"
   ]
  },
  {
   "cell_type": "markdown",
   "metadata": {},
   "source": [
    "### 7. 코드 실습(1)\n",
    "\n",
    "1) p-값 계산 및 해석 문제\n",
    "\n",
    "    - 실제 문제를 통해 p-값을 계산하고 해석하는 연습을 해보자.\n",
    "    \n",
    "    - 아래와 같은 두 개의 데이터 세트가 주어졌다고 가정한다.\n",
    "    \n",
    "        - 데이터 세트 A: [5.1, 5.3, 5.2, 5.4, 5.6]\n",
    "        \n",
    "        - 데이터 세트 B: [6.0, 6.1, 5.9, 6.2, 6.3]\n",
    "\n",
    "    - 이 데이터 세트의 평균 차이에 대한 t-검정을 수행하고 p-값을 계산하여 해석해보자."
   ]
  },
  {
   "cell_type": "code",
   "execution_count": 21,
   "metadata": {},
   "outputs": [
    {
     "name": "stdout",
     "output_type": "stream",
     "text": [
      "t-통계량: -7.005, p-값: 0.000\n",
      "귀무 가설을 기각합니다. 두 그룹 간의 평균 차이가 통계적으로 유의합니다.\n"
     ]
    }
   ],
   "source": [
    "# 데이터 세트 A와 B\n",
    "group_a = np.array([5.1, 5.3, 5.2, 5.4, 5.6])\n",
    "group_b = np.array([6.0, 6.1, 5.9, 6.2, 6.3])\n",
    "\n",
    "# t-검정 수행\n",
    "t_statistic, p_value_exercise = stats.ttest_ind(group_a, group_b)\n",
    "print(f\"t-통계량: {t_statistic:.3f}, p-값: {p_value_exercise:.3f}\")\n",
    "\n",
    "# p-값 해석\n",
    "if p_value_exercise < 0.05:\n",
    "    print(\"귀무 가설을 기각합니다. 두 그룹 간의 평균 차이가 통계적으로 유의합니다.\")\n",
    "else:\n",
    "    print(\"귀무 가설을 기각하지 않습니다. 두 그룹 간의 평균 차이가 통계적으로 유의하지 않습니다.\")"
   ]
  },
  {
   "cell_type": "markdown",
   "metadata": {},
   "source": [
    "2) 통계적 유의성 분석 실습\n",
    "\n",
    "    - 또한, 주어진 데이터 세트를 바탕으로 통계적 유의성을 분석하는 연습을 해보자.\n",
    "    \n",
    "    - 예를 들어, 어떤 제품의 판매량이 두 개의 서로 다른 마케팅 전략에 따라 달라지는지를 분석하고 p-값을 계산하여 결과를 해석하자."
   ]
  },
  {
   "cell_type": "code",
   "execution_count": 22,
   "metadata": {},
   "outputs": [
    {
     "name": "stdout",
     "output_type": "stream",
     "text": [
      "전략 A/B 테스트 t-통계량: -1.534, p-값: 0.128\n",
      "전략 A와 전략 B의 판매량 차이가 통계적으로 유의하지 않습니다.\n"
     ]
    }
   ],
   "source": [
    "# 두 마케팅 전략에 따른 판매량 데이터\n",
    "strategy_a = np.random.normal(loc=100, scale=10, size=50)  # 전략 A\n",
    "strategy_b = np.random.normal(loc=105, scale=10, size=50)  # 전략 B\n",
    "\n",
    "# t-검정 수행\n",
    "t_stat_strategy, p_value_strategy = stats.ttest_ind(strategy_a, strategy_b)\n",
    "print(f\"전략 A/B 테스트 t-통계량: {t_stat_strategy:.3f}, p-값: {p_value_strategy:.3f}\")\n",
    "\n",
    "# p-값 해석\n",
    "if p_value_strategy < 0.05:\n",
    "    print(\"전략 A와 전략 B의 판매량 차이가 통계적으로 유의합니다.\")\n",
    "else:\n",
    "    print(\"전략 A와 전략 B의 판매량 차이가 통계적으로 유의하지 않습니다.\")"
   ]
  },
  {
   "cell_type": "markdown",
   "metadata": {},
   "source": [
    "### 7. 코드 실습(2)\n",
    "\n",
    "- 두 그룹의 데이터를 비교하여 평균의 차이가 통계적으로 유의미한지 판단해보자."
   ]
  },
  {
   "cell_type": "code",
   "execution_count": 12,
   "metadata": {},
   "outputs": [
    {
     "name": "stdout",
     "output_type": "stream",
     "text": [
      "T-Statistic: -4.5843154639850745, P-Value: 8.059088190829809e-06\n"
     ]
    }
   ],
   "source": [
    "# 예제 데이터 생성\n",
    "np.random.seed(1)\n",
    "data_A = np.random.normal(10, 2, 100)  # 평균 10, 표준편차 2인 데이터\n",
    "data_B = np.random.normal(11, 2, 100)  # 평균 11, 표준편차 2인 데이터\n",
    "\n",
    "# t-검정을 통한 가설 검정\n",
    "t_stat, p_val = stats.ttest_ind(data_A, data_B)\n",
    "print(f\"T-Statistic: {t_stat}, P-Value: {p_val}\")"
   ]
  },
  {
   "cell_type": "markdown",
   "metadata": {},
   "source": [
    "1. T-Statistic -4.584: T-통계량이 음수로 나타난 것은 데이터 A의 평균이 데이터 B의 평균보다 낮음을 나타낸다.\n",
    "\n",
    "    - 절대값이 클수록 두 그룹 간의 차이가 크다는 것을 의미한다.\n",
    "\n",
    "2. P-Value 8.059e-06: p-값이 매우 작아(0.000008) 일반적으로 사용하는 유의수준(0.05)보다 훨씬 낮다.\n",
    "\n",
    "    - 이는 두 그룹 간의 평균 차이가 통계적으로 유의미하다는 것을 나타낸다.\n",
    "\n",
    "3. 결론\n",
    "\n",
    "    - 데이터 A와 B 간의 평균 차이는 통계적으로 유의미하며, 데이터 A의 평균이 데이터 B의 평균보다 낮다는 것을 시사한다."
   ]
  }
 ],
 "metadata": {
  "kernelspec": {
   "display_name": "Python 3",
   "language": "python",
   "name": "python3"
  },
  "language_info": {
   "codemirror_mode": {
    "name": "ipython",
    "version": 3
   },
   "file_extension": ".py",
   "mimetype": "text/x-python",
   "name": "python",
   "nbconvert_exporter": "python",
   "pygments_lexer": "ipython3",
   "version": "3.11.2"
  }
 },
 "nbformat": 4,
 "nbformat_minor": 2
}
