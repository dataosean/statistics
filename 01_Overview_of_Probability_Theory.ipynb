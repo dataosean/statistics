{
 "cells": [
  {
   "cell_type": "markdown",
   "metadata": {},
   "source": [
    "# 24.08.07 통계 학습 1회차: 확률 이론 기초"
   ]
  },
  {
   "cell_type": "markdown",
   "metadata": {},
   "source": [
    "# 01 개념"
   ]
  },
  {
   "cell_type": "markdown",
   "metadata": {},
   "source": [
    "### 🔎목차\n",
    "\n",
    "#### 1.확률 이론의 개요\n",
    "- 확률 이론 정의와 중요성\n",
    "- 데이터 과학에서의 역할\n",
    "\n",
    "#### 2.기본 개념\n",
    "- 실험, 사건, 표본 공간\n",
    "- 확률의 정의 (고전적, 빈도론적, 베이지안)\n",
    "\n",
    "#### 3.확률 법칙\n",
    "- 덧셈 법칙\n",
    "- 곱셈 법칙\n",
    "- 조건부 확률과 독립성\n",
    "\n",
    "#### 4.확률 변수\n",
    "- 확률 변수의 개념과 유형 (이산, 연속)\n",
    "- 확률 분포 (PMF, PDF, CDF)\n",
    "\n",
    "#### 5.기대값과 분산\n",
    "- 기대값 (기댓값)\n",
    "- 분산과 표준편차\n",
    "- 공분산과 상관계수\n",
    "\n",
    "#### 6.주요 확률 분포\n",
    "- 이산 분포: 베르누이, 이항, 포아송\n",
    "- 연속 분포: 정규, 지수, 균등\n",
    "\n",
    "#### 7.정리와 법칙\n",
    "- 대수의 법칙\n",
    "- 중심 극한 정리\n",
    "\n",
    "#### 8.베이즈 확률\n",
    "- 베이즈 정리와 베이즈 추론\n",
    "- 베이즈 통계의 응용\n",
    "\n",
    "#### 9.통계적 추론\n",
    "- 표본 추출과 표본 분포\n",
    "- 신뢰 구간\n",
    "- 가설 검정"
   ]
  },
  {
   "cell_type": "markdown",
   "metadata": {},
   "source": [
    "### 1. 확률 이론의 개요\n",
    "\n",
    "1) 확률 이론 정의와 중요성\n",
    "\n",
    "    - 확률 이론은 사건의 발생 가능성을 수치로 표현하는 수학의 한 분야이다.\n",
    "\n",
    "    - 데이터 과학에서는 데이터의 불확실성을 모델링하고 분석하는 데 필수적인 분야이다.\n",
    "\n",
    "    - 예측 모델의 성능 평가, 통계적 추론, 그리고 데이터 해석 등 다양한 측면에서 확률 이론이 중요한 역할을 한다.\n",
    "\n",
    "2) 데이터 과학에서의 역할\n",
    "\n",
    "    - 예측 모델링: 모델이 새로운 데이터에 대해 얼마나 잘 일반화할 수 있는지를 평가하는 데 사용된다.\n",
    "\n",
    "    - 데이터 분석: 데이터 분포를 이해하고, 이상치를 식별하며, 데이터의 패턴을 파악하는 데 활용된다.\n",
    "\n",
    "    - 통계적 추론: 표본 데이터를 기반으로 모집단에 대한 결론을 도출하는 데 필수적이다."
   ]
  },
  {
   "cell_type": "markdown",
   "metadata": {},
   "source": [
    "`💡요약:` 확률 이론은 불확실한 사건의 가능성을 측정하고 분석하는 수학적 이론으로, 데이터 과학에서 확률 이론은 모델링과 예측에 중요한 역할을 한다."
   ]
  },
  {
   "cell_type": "markdown",
   "metadata": {},
   "source": [
    "### 2. 기본 개념\n",
    "\n",
    "1) 한 줄 정리: 확률은 사건이 발생할 가능성을 나타낸다.\n",
    "\n",
    "2) 실험, 사건, 표본 공간\n",
    "\n",
    "    - 실험: 결과를 예측할 수 없는 활동. 예: 주사위 던지기.\n",
    "\n",
    "    - 사건: 실험의 가능한 결과들 중 하나. 예: 주사위에서 3이 나옴.\n",
    "\n",
    "    - 표본 공간: 모든 가능한 사건의 집합. 예: {1, 2, 3, 4, 5, 6}.\n",
    "\n",
    "3) 확률의 정의\n",
    "\n",
    "    - 고전적 확률: 사건 발생의 총 가능한 경우의 수 중 유리한 경우의 수 비율로 정의.\n",
    "\n",
    "    - 빈도론적 확률: 실험을 무한히 반복했을 때 사건이 발생하는 상대적인 빈도로 정의.\n",
    "\n",
    "    - 베이지안 확률: 주어진 증거를 기반으로 사건의 발생 가능성을 주관적으로 평가."
   ]
  },
  {
   "attachments": {
    "image.png": {
     "image/png": "[encoded data removed]"
    }
   },
   "cell_type": "markdown",
   "metadata": {},
   "source": [
    "### 3. 확률 법칙\n",
    "\n",
    "1) 덧셈 법칙\n",
    "\n",
    "    - 두 사건 A와 B가 서로 배타적일 때, A 또는 B가 발생할 확률: P(A∪B)=P(A)+P(B)\n",
    "2) 곱셈 법칙\n",
    "\n",
    "    - 두 사건 A와 B가 독립일 때, A와 B가 동시에 발생할 확률: P(A∩B)=P(A)×P(B)\n",
    "\n",
    "3) 조건부 확률과 독립성\n",
    "\n",
    "    - 조건부 확률: 사건 B가 주어졌을 때 사건 A가 발생할 확률: ![image.png](attachment:image.png)\n",
    "\n",
    "        - 즉, 특정 사건이 이미 발생한 경우, 다른 사건이 발생할 확률이다.\n",
    "        \n",
    "        - 예를 들어, 비 오는 날 우산을 가져올 확률을 나타낸다.\n",
    "\n",
    "    - 독립성: 사건 A와 B가 독립일 때, P(A∣B)=P(A)"
   ]
  },
  {
   "cell_type": "markdown",
   "metadata": {},
   "source": [
    "### 4. 확률 변수\n",
    "\n",
    "1) 확률 변수의 개념과 유형\n",
    "\n",
    "    - 확률 변수: 실험의 결과를 숫자로 나타내는 변수.\n",
    " \n",
    "        - 이산 확률 변수: 가능한 값이 유한하거나 셀 수 있는 경우. 예: 주사위 눈금.\n",
    "\n",
    "        - 연속 확률 변수: 가능한 값이 연속적인 경우. 예: 사람의 키.\n",
    "\n",
    "2) 확률 분포: 무작위 변수의 모든 가능한 값과 그 값이 발생할 확률을 나타낸다. 주요 분포로는 정규분포, 이항분포, 포아송분포 등이 있다. (6번 참고)\n",
    "\n",
    "    - 이산 분포: 확률 질량 함수 (PMF)로 표현.\n",
    "\n",
    "    - 연속 분포: 확률 밀도 함수 (PDF)로 표현.\n",
    "\n",
    "    - 누적 분포 함수 (CDF): 특정 값 이하의 확률을 나타냄"
   ]
  },
  {
   "cell_type": "markdown",
   "metadata": {},
   "source": [
    "### 5. 기대값과 분산\n",
    "\n",
    "1) 기대값 (기댓값)\n",
    "\n",
    "    - 확률 변수가 가질 수 있는 값들의 가중 평균.\n",
    "\n",
    "2) 분산과 표준편차\n",
    "\n",
    "    - 분산: 확률 변수 값들이 기대값 주위에 얼마나 퍼져 있는지의 척도.\n",
    "\n",
    "    - 표준편차: 분산의 제곱근으로 데이터의 퍼짐 정도를 나타낸다.\n",
    "\n",
    "3) 공분산과 상관계수\n",
    "\n",
    "    - 공분산: 두 확률 변수의 공동 변동성.\n",
    "\n",
    "    - 상관계수: 공분산을 두 변수의 표준편차로 나눈 값으로, 변수 간의 선형 관계를 나타낸다."
   ]
  },
  {
   "cell_type": "markdown",
   "metadata": {},
   "source": [
    "`💡요약:` 기댓값은 랜덤 변수의 평균을 나타내며, 분산은 데이터가 평균으로부터 얼마나 퍼져 있는지를 나타낸다."
   ]
  },
  {
   "cell_type": "markdown",
   "metadata": {},
   "source": [
    "### 6. 주요 확률 분포\n",
    "\n",
    "1) 이산 분포\n",
    "\n",
    "    - 베르누이 분포: 두 가지 결과(성공, 실패)만을 가지는 실험의 분포.\n",
    "\n",
    "    - 이항 분포: 베르누이 실험을 n번 반복한 성공 횟수의 분포.\n",
    "\n",
    "        - 반복된 실험에서 성공 횟수를 나타내는 분포.\n",
    "\n",
    "        - 성공과 실패 두 가지 결과만 있는 실험을 반복할 때, 성공의 횟수를 나타내는 분포.\n",
    "        \n",
    "        - 예를 들어, 10번 동전을 던졌을 때 앞면이 나오는 횟수를 이항분포로 모델링할 수 있다.\n",
    "\n",
    "    - 포아송 분포: 단위 시간당 발생하는 사건 수를 나타내는 분포.\n",
    "\n",
    "        - 단위 시간 또는 공간에서 사건이 발생하는 횟수를 나타내는 분포.\n",
    "        \n",
    "        - 예를 들어, 특정 시간 동안 고객이 도착하는 횟수를 포아송분포로 모델링할 수 있다.\n",
    "\n",
    "2) 연속 분포\n",
    "\n",
    "    - 정규 분포: 평균과 표준편차로 정의되며, 종 모양의 분포.\n",
    "\n",
    "        - 데이터가 평균을 중심으로 대칭적으로 분포하는 경우를 나타낸다. 많은 자연 현상들이 정규분포를 따른다.\n",
    "\n",
    "    - 지수 분포: 사건이 발생할 때까지의 대기 시간 분포.\n",
    "    \n",
    "    - 균등 분포: 모든 값이 균등하게 발생할 확률을 가지는 분포."
   ]
  },
  {
   "cell_type": "markdown",
   "metadata": {},
   "source": [
    "### 7. 정리와 법칙\n",
    "\n",
    "1) 대수의 법칙\n",
    "\n",
    "    - 반복된 실험의 평균 결과가 실제 이론적 평균에 수렴하는 것.\n",
    "\n",
    "2) 중심 극한 정리\n",
    "\n",
    "    - 표본 크기가 충분히 클 경우, 표본 평균의 분포가 정규 분포에 가까워지는 것."
   ]
  },
  {
   "attachments": {
    "image.png": {
     "image/png": "[encoded data removed]"
    }
   },
   "cell_type": "markdown",
   "metadata": {},
   "source": [
    "### 8. 베이즈 확률\n",
    "\n",
    "1) 베이즈 정리와 베이즈 추론\n",
    "\n",
    "    - 베이즈 정리: 새로운 증거를 반영하여 사건의 확률을 갱신하는 방법: ![image.png](attachment:image.png)\n",
    "\n",
    "        - 조건부 확률을 계산하는 중요한 도구로, 사전 확률을 이용해 사후 확률을 계산합니다.\n",
    "        \n",
    "        - 데이터 과학에서는 모델 업데이트에 자주 사용된다.\n",
    "\n",
    "    - 베이즈 추론: 사전 확률과 증거를 결합하여 사후 확률을 추정.\n",
    "\n",
    "2) 베이즈 통계의 응용\n",
    "\n",
    "    - 예측 모델의 갱신, 의료 진단, 스팸 필터링 등 다양한 분야에서 활용."
   ]
  },
  {
   "cell_type": "markdown",
   "metadata": {},
   "source": [
    "### 9. 통계적 추론\n",
    "\n",
    "1) 표본 추출과 표본 분포\n",
    "\n",
    "    - 표본 추출: 모집단에서 일부를 선택하여 데이터를 수집.\n",
    "\n",
    "    - 표본 분포: 표본 통계량의 분포.\n",
    "\n",
    "2) 신뢰 구간\n",
    "\n",
    "    - 모집단 파라미터가 특정 범위 내에 있을 확률을 나타냄.\n",
    "\n",
    "3) 가설 검정\n",
    "\n",
    "    - 모집단에 대한 가설을 설정하고 표본 데이터를 사용하여 검정하는 과정."
   ]
  },
  {
   "cell_type": "markdown",
   "metadata": {},
   "source": [
    "### 10. 실제 활용되는 사례 예시\n",
    "\n",
    "- 머신러닝 모델의 성능 평가에서의 확률적 접근.\n",
    "\n",
    "- A/B 테스트에서의 확률 이론 응용.\n",
    "\n",
    "- 이상 탐지에서의 확률적 모델링."
   ]
  },
  {
   "cell_type": "markdown",
   "metadata": {},
   "source": [
    "### 11. 확률 이론 실전 예제: 정규 분포를 사용한 가설 검정\n",
    "\n",
    "- 정규 분포를 사용하여 두 그룹의 평균이 같은지 검정하는 과정이다.\n",
    "\n",
    "- 데이터 분석가로서 데이터의 평균 차이가 `통계적으로 유의한지 판단`하는 데 도움이 된다.\n",
    "\n",
    "- t-검정을 수행할 stats.ttest_ind를 사용하여 두 그룹의 평균이 같은지 검정한다."
   ]
  },
  {
   "cell_type": "code",
   "execution_count": 2,
   "metadata": {},
   "outputs": [
    {
     "name": "stdout",
     "output_type": "stream",
     "text": [
      "Group 1 Mean: 54.42856447263174\n",
      "Group 2 Mean: 52.1047814384602\n",
      "T-Statistic: 0.8897019207505096, P-Value: 0.3773014533943507\n"
     ]
    }
   ],
   "source": [
    "# 라이브러리 불러오기\n",
    "import numpy as np\n",
    "import scipy.stats as stats\n",
    "import matplotlib.pyplot as plt\n",
    "\n",
    "# 정규 분포를 따르는 두 그룹 만들기(= 데이터 생성)\n",
    "np.random.seed(0)\n",
    "group1 = np.random.normal(loc=50, scale=10, size=30)  # 평균 50, 표준편차 10\n",
    "group2 = np.random.normal(loc=55, scale=10, size=30)  # 평균 55, 표준편차 10\n",
    "\n",
    "# 1) 그룹별 평균 계산하기\n",
    "mean1 = np.mean(group1)\n",
    "mean2 = np.mean(group2)\n",
    "\n",
    "# 2) t-검정 수행 (두 그룹의 평균 비교하기)\n",
    "t_stat, p_value = stats.ttest_ind(group1, group2)\n",
    "\n",
    "print(f\"Group 1 Mean: {mean1}\")\n",
    "print(f\"Group 2 Mean: {mean2}\")\n",
    "print(f\"T-Statistic: {t_stat}, P-Value: {p_value}\")"
   ]
  },
  {
   "cell_type": "code",
   "execution_count": 3,
   "metadata": {},
   "outputs": [
    {
     "data": {
      "image/png": "[encoded data removed]",
      "text/plain": [
       "<Figure size 1000x600 with 1 Axes>"
      ]
     },
     "metadata": {},
     "output_type": "display_data"
    }
   ],
   "source": [
    "# 결과 시각화하기\n",
    "plt.figure(figsize=(10, 6))\n",
    "plt.hist(group1, alpha=0.7, label='Group 1', bins=10)\n",
    "plt.hist(group2, alpha=0.7, label='Group 2', bins=10)\n",
    "plt.title('Group 1 vs Group 2: Histogram')\n",
    "plt.xlabel('Value')\n",
    "plt.ylabel('Frequency')\n",
    "plt.legend()\n",
    "plt.show()"
   ]
  },
  {
   "cell_type": "code",
   "execution_count": 4,
   "metadata": {},
   "outputs": [
    {
     "name": "stdout",
     "output_type": "stream",
     "text": [
      "귀무 가설 채택: 두 그룹의 평균이 통계적으로 유의하게 다르지 않습니다.\n"
     ]
    }
   ],
   "source": [
    "# 가설 검정 결과 해석하기(유의수준: 0.05)\n",
    "alpha = 0.05\n",
    "if p_value < alpha:  # 0.37 > 0.05 = 우연히 일어난 사건이 맞다, 귀무가설 채택\n",
    "    print(\"귀무 가설 기각: 두 그룹의 평균이 통계적으로 유의하게 다릅니다.\")\n",
    "else:\n",
    "    print(\"귀무 가설 채택: 두 그룹의 평균이 통계적으로 유의하게 다르지 않습니다.\")"
   ]
  },
  {
   "cell_type": "markdown",
   "metadata": {},
   "source": [
    "### 12. 기타: 랜덤 변수\n",
    "\n",
    "- 랜덤 변수는 확률 실험의 결과를 수치로 표현한 것이다.\n",
    "\n",
    "- 예를 들어, 주사위를 던져 나온 눈의 수는 랜덤 변수이다.\n",
    "\n",
    "1) 이산 랜덤 변수\n",
    "\n",
    "    - 이산 랜덤 변수는 유한하거나 셀 수 있는 값만 가질 수 있는 변수이다.\n",
    "    \n",
    "    - 예를 들어, 주사위 눈의 수는 1, 2, 3, 4, 5, 6의 값만 가질 수 있다.\n",
    "\n",
    "2) 연속 랜덤 변수\n",
    "\n",
    "    - 연속 랜덤 변수는 특정 범위 내의 모든 값을 가질 수 있는 변수이다.\n",
    "    \n",
    "    - 예를 들어, 사람의 키는 150cm에서 200cm 사이의 모든 값을 가질 수 있다."
   ]
  }
 ],
 "metadata": {
  "kernelspec": {
   "display_name": "Python 3",
   "language": "python",
   "name": "python3"
  },
  "language_info": {
   "codemirror_mode": {
    "name": "ipython",
    "version": 3
   },
   "file_extension": ".py",
   "mimetype": "text/x-python",
   "name": "python",
   "nbconvert_exporter": "python",
   "pygments_lexer": "ipython3",
   "version": "3.11.2"
  }
 },
 "nbformat": 4,
 "nbformat_minor": 2
}
